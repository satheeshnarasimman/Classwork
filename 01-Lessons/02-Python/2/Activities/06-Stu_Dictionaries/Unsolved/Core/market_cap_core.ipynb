{
 "cells": [
  {
   "cell_type": "code",
   "execution_count": 4,
   "metadata": {},
   "outputs": [
    {
     "name": "stdout",
     "output_type": "stream",
     "text": [
      "{'JP Morgan Chase': '327', 'Bank of America': '302', 'Citigroup': 170, 'Wells Fargo': '273', 'Goldman Sachs': '87', 'Morgan Stanley': '72', 'U.S. Bancorp': '83', 'TD Bank': '108', 'PNC Financial Services': '67', 'Capital One': '47', 'FNB Corporation': '4', 'First Hawaiian Bank': '3', 'Ally Financial': '12', 'Republic Bancorp': '.97', 'American Express': 33}\n"
     ]
    }
   ],
   "source": [
    "# -*- coding: utf-8 -*-\n",
    "\"\"\"\n",
    "Student Activity: Market Capitalization.\n",
    "\n",
    "This script showcases the use of Python Dicts to determine the\n",
    "bank names associated with the corresponding market cap ranges.\n",
    "\"\"\"\n",
    "\n",
    "# Banks and Market Caps\n",
    "#-----------------------\n",
    "# JP Morgan Chase: 327\n",
    "# Bank of America: 302\n",
    "# Citigroup: 173\n",
    "# Wells Fargo: 273\n",
    "# Goldman Sachs: 87\n",
    "# Morgan Stanley: 72\n",
    "# U.S. Bancorp: 83\n",
    "# TD Bank: 108\n",
    "# PNC Financial Services: 67\n",
    "# Capital One: 47\n",
    "# FNB Corporation: 4\n",
    "# First Hawaiian Bank: 3\n",
    "# Ally Financial: 12\n",
    "# Wachovia: 145\n",
    "# Republic Bancorp: .97\n",
    "\n",
    "# @TODO: Initialize a dictionary of banks and market caps (in billions)\n",
    "dict= {'JP Morgan Chase': '327',\n",
    "'Bank of America': '302',\n",
    "'Citigroup': '173',\n",
    "'Wells Fargo': '273',\n",
    "'Goldman Sachs': '87',\n",
    "'Morgan Stanley': '72',\n",
    "'U.S. Bancorp': '83',\n",
    "'TD Bank': '108',\n",
    "'PNC Financial Services': '67',\n",
    "'Capital One': '47',\n",
    "'FNB Corporation': '4',\n",
    "'First Hawaiian Bank': '3',\n",
    "'Ally Financial': '12',\n",
    "'Wachovia': '145',\n",
    "'Republic Bancorp': '.97'}\n",
    "\n",
    "\n",
    "# @TODO: Change the market cap for 'Citigroup'\n",
    "dict [\"Citigroup\"]= 170\n",
    "\n",
    "# @TODO: Add a new bank and market cap pair\n",
    "dict[\"American Express\"]= 33\n",
    "\n",
    "# @TODO: Remove a bank from the dictionary\n",
    "del dict[\"Wachovia\"]\n",
    "\n",
    "# @TODO: Print the modified dictionary\n",
    "print (dict)"
   ]
  },
  {
   "cell_type": "code",
   "execution_count": null,
   "metadata": {},
   "outputs": [],
   "source": []
  }
 ],
 "metadata": {
  "kernelspec": {
   "display_name": "Python 3",
   "language": "python",
   "name": "python3"
  },
  "language_info": {
   "codemirror_mode": {
    "name": "ipython",
    "version": 3
   },
   "file_extension": ".py",
   "mimetype": "text/x-python",
   "name": "python",
   "nbconvert_exporter": "python",
   "pygments_lexer": "ipython3",
   "version": "3.8.3"
  }
 },
 "nbformat": 4,
 "nbformat_minor": 4
}
