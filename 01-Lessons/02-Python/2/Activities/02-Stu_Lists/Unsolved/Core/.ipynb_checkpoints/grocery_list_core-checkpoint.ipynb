{
 "cells": [
  {
   "cell_type": "code",
   "execution_count": 3,
   "metadata": {},
   "outputs": [
    {
     "name": "stdout",
     "output_type": "stream",
     "text": [
      "['Water', 'Butter']\n",
      "['Eggs', 'Apples', 'Cinnamon', 'Sugar', 'Milk']\n",
      "['Butter', 'Apples', 'Sugar']\n",
      "['Water', 'Butter', 'Eggs', 'Apples', 'Cinnamon', 'Sugar', 'Milk', 'flour']\n",
      "['Water', 'Butter', 'Eggs', 'gala_apple', 'Cinnamon', 'Sugar', 'Milk', 'flour']\n",
      "8\n"
     ]
    }
   ],
   "source": [
    "# -*- coding: utf-8 -*-\n",
    "\"\"\"\n",
    "Student Do: Grocery List.\n",
    "\n",
    "This script showcases basic operations of Python Lists to help Sally\n",
    "organize her grocery shopping list.\n",
    "\"\"\"\n",
    "\n",
    "# @TODO: Create a list of groceries\n",
    "\n",
    "groceries= [\"Water\",\"Butter\",\"Eggs\",\"Apples\",\"Cinnamon\",\"Sugar\",\"Milk\"]\n",
    "\n",
    "\n",
    "\n",
    "# @TODO: Find the first two items on the list\n",
    "\n",
    "print (groceries[:2])\n",
    "\n",
    "\n",
    "# @TODO: Find the last five items on the list\n",
    "\n",
    "print (groceries[2:])\n",
    "\n",
    "\n",
    "# @TODO: Find every other item on the list, starting from the second item\n",
    "print (groceries[1::2])\n",
    "\n",
    "\n",
    "\n",
    "# @TODO: Add an element to the end of the list\n",
    "\n",
    "groceries.append('flour')\n",
    "print (groceries)\n",
    "\n",
    "\n",
    "\n",
    "# @TODO: Changes a specified element within the list at the given index\n",
    "\n",
    "groceries[3]= \"gala_apple\"\n",
    "print (groceries)\n",
    "\n",
    "\n",
    "# @TODO: Calculate how many items you have in the list\n",
    "print (len(groceries))"
   ]
  },
  {
   "cell_type": "code",
   "execution_count": null,
   "metadata": {},
   "outputs": [],
   "source": []
  }
 ],
 "metadata": {
  "kernelspec": {
   "display_name": "Python 3",
   "language": "python",
   "name": "python3"
  },
  "language_info": {
   "codemirror_mode": {
    "name": "ipython",
    "version": 3
   },
   "file_extension": ".py",
   "mimetype": "text/x-python",
   "name": "python",
   "nbconvert_exporter": "python",
   "pygments_lexer": "ipython3",
   "version": "3.8.3"
  }
 },
 "nbformat": 4,
 "nbformat_minor": 4
}
