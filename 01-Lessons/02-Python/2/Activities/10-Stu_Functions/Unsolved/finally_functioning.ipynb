{
 "cells": [
  {
   "cell_type": "code",
   "execution_count": 9,
   "metadata": {},
   "outputs": [
    {
     "name": "stdout",
     "output_type": "stream",
     "text": [
      "Compound Annual Growth Rate for 2016: 0.55%\n",
      "Compound Annual Growth Rate for 2016: 0.04%\n",
      "Compound Annual Growth Rate for 2016: 0.04%\n",
      "Growth rates:  []\n"
     ]
    }
   ],
   "source": [
    "\"\"\"Determine the Compound Annual Growth Rate for an investment\"\"\"\n",
    "\n",
    "# Declare a variable beginning_balance as a float\n",
    "beginning_balance = 29000.00\n",
    "\n",
    "# Declare a variable ending_balance as float\n",
    "ending_balance = 45000.10\n",
    "\n",
    "# Declare a variable years as an float\n",
    "years = 1.0\n",
    "\n",
    "# Define a function called calculate_compound_growth_rate with three arguments: beginning_balance, ending_balance, years. Function should output growth_rate.\n",
    "def calculate_compound_growth_rate (beginning_balance, ending_balance, years):\n",
    "    growth_rate= (ending_balance/beginning_balance)**(1/years)-1\n",
    "    return growth_rate\n",
    "\n",
    "# Call calculate_compound_growth_rate using beginning_balance, ending_balance, and years. Capture as year_one_growth.\n",
    "year_one_growth= calculate_compound_growth_rate (beginning_balance, ending_balance, years)\n",
    "\n",
    "# Update beginning_balance and ending balance for year two, and then execute calculate_compound_growth_rate\n",
    "beginning_balance= 45000\n",
    "ending_balance= 47000\n",
    "\n",
    "# Call calculate_compound_growth_rate using beginning_balance, ending_balance, and years. Capture as year_two_growth.\n",
    "year_two_growth= calculate_compound_growth_rate (beginning_balance, ending_balance, years)\n",
    "\n",
    "# Update beginning_balance and ending balance for year three, and then execute calculate_compound_growth_rate\n",
    "beginning_balance= 47000\n",
    "ending_balance= 48930\n",
    "\n",
    "# Call calculate_compound_growth_rate using beginning_balance, ending_balance, and years. Capture as year_three_growth.\n",
    "year_three_growth= calculate_compound_growth_rate (beginning_balance, ending_balance, years)\n",
    "\n",
    "# Use Python round() function to round year_one_growth, year_two_growth, and year_three_growth. Capture these as new variables.\n",
    "year_one_growth_rnd = round(year_one_growth,2)\n",
    "year_two_growth_rnd = round(year_two_growth,2)\n",
    "year_three_growth_rnd = round(year_three_growth,2)\n",
    "\n",
    "# Print year_one_growth, year_two_growth, year_three_growth as percents using string formatting\n",
    "print(f\"Compound Annual Growth Rate for 2016: {year_one_growth_rnd}%\")\n",
    "print(f\"Compound Annual Growth Rate for 2016: {year_two_growth_rnd}%\")\n",
    "print(f\"Compound Annual Growth Rate for 2016: {year_three_growth_rnd}%\")\n",
    "\n",
    "\n",
    "# Challenge\n",
    "\n",
    "# Create a global, empty list\n",
    "growth_rates= list()\n",
    "\n",
    "# Define a function called\n",
    "def calculate_compound_growth_rate (beginning_balance, ending_balance, years):\n",
    "    growth_rate= (ending_balance/beginning_balance)**(1/years)-1\n",
    "\n",
    "    # Populate growth_rates list using add() function\n",
    "    growth_rates.append(growth_rate)\n",
    "\n",
    "# Call calculate_compound_growth_rate_list and populate growth_rates with 2016 values (beginning_balance and ending_balance)\n",
    "beginning_balance = 29000.00\n",
    "ending_balance = 45000.10\n",
    "\n",
    "\n",
    "# Call calculate_compound_growth_rate_list and populate growth_rates with 2017 values (beginning_balance and ending_balance)\n",
    "beginning_balance = 45000.00\n",
    "ending_balance = 47000.00\n",
    "\n",
    "\n",
    "# Call calculate_compound_growth_rate_list and populate growth_rates with 2018 values (beginning_balance and ending_balance)\n",
    "beginning_balance = 47000.00\n",
    "ending_balance = 48930.00\n",
    "\n",
    "\n",
    "# Print growth_rates list\n",
    "print(\"Growth rates: \", growth_rates)"
   ]
  },
  {
   "cell_type": "code",
   "execution_count": null,
   "metadata": {},
   "outputs": [],
   "source": []
  }
 ],
 "metadata": {
  "kernelspec": {
   "display_name": "Python 3",
   "language": "python",
   "name": "python3"
  },
  "language_info": {
   "codemirror_mode": {
    "name": "ipython",
    "version": 3
   },
   "file_extension": ".py",
   "mimetype": "text/x-python",
   "name": "python",
   "nbconvert_exporter": "python",
   "pygments_lexer": "ipython3",
   "version": "3.8.3"
  }
 },
 "nbformat": 4,
 "nbformat_minor": 4
}
