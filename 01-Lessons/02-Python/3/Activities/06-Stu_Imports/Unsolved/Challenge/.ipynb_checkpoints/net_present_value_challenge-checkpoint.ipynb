{
 "cells": [
  {
   "cell_type": "code",
   "execution_count": 5,
   "metadata": {},
   "outputs": [
    {
     "name": "stdout",
     "output_type": "stream",
     "text": [
      "The project scenario with the max NPV value is 'neutral' with a NPV of 401.91926780957544\n"
     ]
    }
   ],
   "source": [
    "# -*- coding: utf-8 -*-\n",
    "\"\"\"Student Activity: Financial Analysis using NPV.\n",
    "\n",
    "This script will choose the optimal project scenario to\n",
    "undertake based on max NPV values.\n",
    "\"\"\"\n",
    "\n",
    "# @TODO: Import the NumPy Financial (numpy_financial) library\n",
    "import numpy_financial as npf\n",
    "\n",
    "# Discount Rate\n",
    "discount_rate = .1\n",
    "\n",
    "# Initial Investment, Cash Flow 1, Cash Flow 2, Cash Flow 3, Cash Flow 4\n",
    "cash_flows_conservative = [-1000, 400, 400, 400, 400]\n",
    "cash_flows_neutral = [-1500, 600, 600, 600, 600]\n",
    "cash_flows_aggressive = [-2250, 800, 800, 800, 800]\n",
    "\n",
    "# @TODO: Initialize dictionary to hold NPV return values\n",
    "npv_dict = {}\n",
    "\n",
    "# @TODO: Calculate the NPV for each scenario\n",
    "npv_dict['conservative']= npf.npv(discount_rate, cash_flows_conservative)\n",
    "npv_dict['neutral']= npf.npv(discount_rate, cash_flows_neutral)\n",
    "npv_dict['aggressive']= npf.npv(discount_rate, cash_flows_aggressive)\n",
    "\n",
    "\n",
    "\n",
    "# @TODO: Initialize variables\n",
    "max_npv= 0\n",
    "max_scenario= 0\n",
    "\n",
    "# @TODO: Iterate over npv_dict to find the max key-value pair\n",
    "for scenario, cash_flows in npv_dict.items():\n",
    "    if max_npv == 0:\n",
    "        max_npv= cash_flows\n",
    "        max_scenario= scenario\n",
    "    elif cash_flows> max_npv:\n",
    "        max_npv= cash_flows\n",
    "        max_scenario= scenario\n",
    "        \n",
    "\n",
    "# @TODO: Print out the optimal project scenario with the highest NPV value\n",
    "print (f\"The project scenario with the max NPV value is '{max_scenario}' with a NPV of {max_npv}\")"
   ]
  },
  {
   "cell_type": "code",
   "execution_count": null,
   "metadata": {},
   "outputs": [],
   "source": []
  }
 ],
 "metadata": {
  "kernelspec": {
   "display_name": "Python 3",
   "language": "python",
   "name": "python3"
  },
  "language_info": {
   "codemirror_mode": {
    "name": "ipython",
    "version": 3
   },
   "file_extension": ".py",
   "mimetype": "text/x-python",
   "name": "python",
   "nbconvert_exporter": "python",
   "pygments_lexer": "ipython3",
   "version": "3.8.3"
  }
 },
 "nbformat": 4,
 "nbformat_minor": 4
}
