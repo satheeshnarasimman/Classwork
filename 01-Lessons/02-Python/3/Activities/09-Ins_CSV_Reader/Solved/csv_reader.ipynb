{
 "cells": [
  {
   "cell_type": "code",
   "execution_count": 1,
   "metadata": {},
   "outputs": [],
   "source": [
    "from pathlib import Path"
   ]
  },
  {
   "cell_type": "code",
   "execution_count": 2,
   "metadata": {},
   "outputs": [],
   "source": [
    "import csv"
   ]
  },
  {
   "cell_type": "code",
   "execution_count": 6,
   "metadata": {},
   "outputs": [],
   "source": [
    "csv_path= Path(\"../Resources/accounting.csv\")\n",
    "\n",
    "line_num= 0\n",
    "salaries= []"
   ]
  },
  {
   "cell_type": "code",
   "execution_count": 8,
   "metadata": {},
   "outputs": [
    {
     "ename": "NameError",
     "evalue": "name 'line_num' is not defined",
     "output_type": "error",
     "traceback": [
      "\u001b[1;31m---------------------------------------------------------------------------\u001b[0m",
      "\u001b[1;31mNameError\u001b[0m                                 Traceback (most recent call last)",
      "\u001b[1;32m<ipython-input-8-8a056a52d03c>\u001b[0m in \u001b[0;36m<module>\u001b[1;34m\u001b[0m\n\u001b[0;32m      3\u001b[0m \u001b[1;33m\u001b[0m\u001b[0m\n\u001b[0;32m      4\u001b[0m     \u001b[0mheader\u001b[0m\u001b[1;33m=\u001b[0m \u001b[0mnext\u001b[0m\u001b[1;33m(\u001b[0m\u001b[0mcsv_reader\u001b[0m\u001b[1;33m)\u001b[0m\u001b[1;33m\u001b[0m\u001b[1;33m\u001b[0m\u001b[0m\n\u001b[1;32m----> 5\u001b[1;33m     \u001b[0mline_num\u001b[0m \u001b[1;33m+=\u001b[0m \u001b[1;36m1\u001b[0m\u001b[1;33m\u001b[0m\u001b[1;33m\u001b[0m\u001b[0m\n\u001b[0m\u001b[0;32m      6\u001b[0m     \u001b[0mprint\u001b[0m \u001b[1;33m(\u001b[0m\u001b[1;34mf\"{header} <-------HEADER\"\u001b[0m\u001b[1;33m)\u001b[0m\u001b[1;33m\u001b[0m\u001b[1;33m\u001b[0m\u001b[0m\n\u001b[0;32m      7\u001b[0m \u001b[1;33m\u001b[0m\u001b[0m\n",
      "\u001b[1;31mNameError\u001b[0m: name 'line_num' is not defined"
     ]
    }
   ],
   "source": [
    "with open (csv_path, 'r') as csv_file:\n",
    "    csv_reader= csv.reader(csv_file, delimiter= \",\")\n",
    "    \n",
    "    header= next(csv_reader)\n",
    "    line_num += 1\n",
    "    print (f\"{header} <-------HEADER\")\n",
    "    \n",
    "    for row in csv_reader:\n",
    "        print (row)\n",
    "        \n",
    "        salary= int (row[3])\n",
    "        \n",
    "        salaries.append(salary)"
   ]
  },
  {
   "cell_type": "code",
   "execution_count": 2,
   "metadata": {},
   "outputs": [
    {
     "name": "stdout",
     "output_type": "stream",
     "text": [
      "<class '_io.TextIOWrapper'>\n",
      "<class '_csv.reader'>\n",
      "['First Name', 'Last Name', 'SSN', 'Salary'] <----- HEADER\n",
      "['Tina', 'Fleming', '619-16-7988', '75000']\n",
      "['Erica', 'Shah', '164-51-7615', '40000']\n",
      "['Paula', 'Ortiz', '051-83-3290', '120000']\n",
      "['James', 'Hendricks', '776-83-2884', '90000']\n",
      "['Lauren', 'King', '197-94-2398', '60000']\n",
      "['David', 'Cowan', '252-92-1832', '35000']\n",
      "['Andrew', 'Burton', '296-23-6842', '150000']\n",
      "['Julian', 'Baker', '337-40-7543', '75000']\n",
      "['Scott', 'Castro', '399-46-5595', '50000']\n",
      "['Billy', 'Rodriguez', '014-18-2503', '65000']\n",
      "['Darrell', 'Leblanc', '005-82-7918', '40000']\n",
      "['David', 'Hammond', '561-17-6312', '90000']\n",
      "150000 35000 74166.67\n"
     ]
    }
   ],
   "source": [
    "from pathlib import Path\n",
    "import csv\n",
    "\n",
    "csvpath= Path('../Resources/accounting.csv')\n",
    "\n",
    "salaries= []\n",
    "\n",
    "line_num =0\n",
    "\n",
    "with open(csvpath, 'r') as csvfile:\n",
    "    \n",
    "    print (type(csvfile))\n",
    "    \n",
    "    csvreader= csv.reader(csvfile, delimiter= ',')\n",
    "    print (type(csvreader))\n",
    "    \n",
    "    header= next(csvreader)\n",
    "    line_num += 1\n",
    "    \n",
    "    print (f\"{header} <----- HEADER\")\n",
    "    \n",
    "    for row in csvreader:\n",
    "        \n",
    "        print (row)\n",
    "        \n",
    "        salary= int (row[3])\n",
    "        \n",
    "        salaries.append(salary)\n",
    "    \n",
    "        \n",
    "max_salary = 0\n",
    "min_salary = 0\n",
    "avg_salary = 0\n",
    "total_salary = 0\n",
    "count_salary = 0\n",
    "\n",
    "for salary in salaries:\n",
    "    \n",
    "    total_salary += salary\n",
    "    count_salary += 1\n",
    "    \n",
    "    if min_salary == 0:\n",
    "        min_salary= salary\n",
    "    elif salary< min_salary:\n",
    "        min_salary= salary\n",
    "    elif salary> max_salary:\n",
    "        max_salary= salary\n",
    "        \n",
    "avg_salary= round(total_salary/ count_salary, 2)\n",
    "\n",
    "print (max_salary, min_salary,avg_salary)\n",
    "\n",
    "header= [\"Max_Salary\", \"Min_Salary\", \"Avg_Salary\"]\n",
    "\n",
    "metrics = [max_salary, min_salary, avg_salary]\n",
    "\n",
    "output_path = Path('output.csv')\n",
    "\n",
    "with open (output_path, 'w') as csvfile:\n",
    "    \n",
    "    csvwriter= csv.writer(csvfile, delimiter= ',')\n",
    "    \n",
    "    csvwriter.writerow(header)\n",
    "    \n",
    "    csvwriter.writerow(metrics)"
   ]
  },
  {
   "cell_type": "code",
   "execution_count": null,
   "metadata": {},
   "outputs": [],
   "source": []
  }
 ],
 "metadata": {
  "kernelspec": {
   "display_name": "Python 3",
   "language": "python",
   "name": "python3"
  },
  "language_info": {
   "codemirror_mode": {
    "name": "ipython",
    "version": 3
   },
   "file_extension": ".py",
   "mimetype": "text/x-python",
   "name": "python",
   "nbconvert_exporter": "python",
   "pygments_lexer": "ipython3",
   "version": "3.8.3"
  }
 },
 "nbformat": 4,
 "nbformat_minor": 4
}
