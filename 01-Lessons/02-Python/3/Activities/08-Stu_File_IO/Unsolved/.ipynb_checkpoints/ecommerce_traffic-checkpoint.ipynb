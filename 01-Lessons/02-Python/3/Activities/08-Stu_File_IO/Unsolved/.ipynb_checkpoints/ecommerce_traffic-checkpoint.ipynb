{
 "cells": [
  {
   "cell_type": "code",
   "execution_count": null,
   "metadata": {},
   "outputs": [],
   "source": [
    "# -*- coding: utf-8 -*-\n",
    "\"\"\"Student Do: E-Commerce Traffic.\n",
    "\n",
    "This script will parse through a text file and sum the total\n",
    "number of customers and the count of days in the text file to\n",
    "calculate the daily average of customer traffic for an e-commerce\n",
    "business.\n",
    "\"\"\"\n",
    "\n",
    "# @TODO: From the pathlib library, import the main class Path\n",
    "from pathlib import Path\n",
    "\n",
    "# @TODO: Check the current directory where the Python program is executing from\n",
    "current_path= Path.cwd()\n",
    "print (f\"Currently in {current_path}\")\n",
    "\n",
    "# @TODO: Set the path using Pathlib\n",
    "file_path= Path(\"../Resources/customer_traffic.txt\")\n",
    "\n",
    "# Initialize variables\n",
    "customer_total = 0\n",
    "day_count = 0\n",
    "\n",
    "# @TODO: Open the file in \"read\" mode ('r') and store the contents in the variable 'file'\n",
    "with open (file_path, 'r') as file:\n",
    "\n",
    "    # @TODO: Parse the file line by line\n",
    "    for line in file:\n",
    "\n",
    "        # @TODO: Convert the number in the text file from string to int (allows for numerical calculations)\n",
    "        number= int (line)\n",
    "\n",
    "        # @TODO: Sum the total and count of the numbers in the text file\n",
    "        customer_total += number\n",
    "        day_count += 1\n",
    "\n",
    "# @TODO: Print out customer_total and day_count\n",
    "print(f\"Customer total: {customer_total}\")\n",
    "print(f\"Day Count: {day_count}\")\n",
    "\n",
    "\n",
    "# @TODO: Calculate the average\n",
    "print (f\"Daily Average: {daily_average}\")\n",
    "\n",
    "\n",
    "# @TODO: Set output file name\n",
    "output_file= Path(\"../Resources/customer_traffic.txt\")\n",
    "\n",
    "# @TODO: Open the output path as a file object\n",
    "with open (output_file, 'w') as file:\n",
    "    \n",
    "    # @TODO: Write daily_average to the output file, convert to string\n",
    "    file.write(f\"There were {customer_total} customers over the course of {day_count}\")\n",
    "    file.write(f\"The average daily customer traffic is {daily_average}\")\n"
   ]
  }
 ],
 "metadata": {
  "kernelspec": {
   "display_name": "Python 3",
   "language": "python",
   "name": "python3"
  },
  "language_info": {
   "codemirror_mode": {
    "name": "ipython",
    "version": 3
   },
   "file_extension": ".py",
   "mimetype": "text/x-python",
   "name": "python",
   "nbconvert_exporter": "python",
   "pygments_lexer": "ipython3",
   "version": "3.8.3"
  }
 },
 "nbformat": 4,
 "nbformat_minor": 4
}
