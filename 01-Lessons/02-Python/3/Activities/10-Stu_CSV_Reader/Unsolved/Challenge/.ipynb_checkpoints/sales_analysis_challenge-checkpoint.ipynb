{
 "cells": [
  {
   "cell_type": "code",
   "execution_count": 5,
   "metadata": {},
   "outputs": [
    {
     "name": "stdout",
     "output_type": "stream",
     "text": [
      "['Name', 'Count', 'Revenue']\n",
      "['Andrew', '9', '58']\n"
     ]
    },
    {
     "ename": "KeyError",
     "evalue": "'Andrew'",
     "output_type": "error",
     "traceback": [
      "\u001b[1;31m---------------------------------------------------------------------------\u001b[0m",
      "\u001b[1;31mKeyError\u001b[0m                                  Traceback (most recent call last)",
      "\u001b[1;32m<ipython-input-5-33df81485049>\u001b[0m in \u001b[0;36m<module>\u001b[1;34m\u001b[0m\n\u001b[0;32m     52\u001b[0m \u001b[1;33m\u001b[0m\u001b[0m\n\u001b[0;32m     53\u001b[0m         \u001b[1;32melse\u001b[0m\u001b[1;33m:\u001b[0m\u001b[1;33m\u001b[0m\u001b[1;33m\u001b[0m\u001b[0m\n\u001b[1;32m---> 54\u001b[1;33m             \u001b[0manalysis\u001b[0m\u001b[1;33m[\u001b[0m\u001b[0mname\u001b[0m\u001b[1;33m]\u001b[0m\u001b[1;33m[\u001b[0m\u001b[1;34m\"count\"\u001b[0m\u001b[1;33m]\u001b[0m \u001b[1;33m+=\u001b[0m \u001b[0mcount\u001b[0m\u001b[1;33m\u001b[0m\u001b[1;33m\u001b[0m\u001b[0m\n\u001b[0m\u001b[0;32m     55\u001b[0m             \u001b[0manalysis\u001b[0m\u001b[1;33m[\u001b[0m\u001b[0mname\u001b[0m\u001b[1;33m]\u001b[0m\u001b[1;33m[\u001b[0m\u001b[1;34m\"revenue\"\u001b[0m\u001b[1;33m]\u001b[0m \u001b[1;33m+=\u001b[0m \u001b[0mrevenue\u001b[0m\u001b[1;33m\u001b[0m\u001b[1;33m\u001b[0m\u001b[0m\n\u001b[0;32m     56\u001b[0m \u001b[1;33m\u001b[0m\u001b[0m\n",
      "\u001b[1;31mKeyError\u001b[0m: 'Andrew'"
     ]
    }
   ],
   "source": [
    "# -*- coding: utf-8 -*-\n",
    "\"\"\"Student Do: Sales Analysis.\n",
    "\n",
    "This script will use the Pathlib library to set the file path,\n",
    "use the csv library to read in the file, and iterate over each\n",
    "row of the file to calculate customer sales averages.\n",
    "\"\"\"\n",
    "\n",
    "# @TODO: Import the pathlib and csv library\n",
    "from pathlib import Path\n",
    "import csv\n",
    "\n",
    "# @TODO: Set the file path\n",
    "file_path= Path(\"../../Resources/sales.csv\")\n",
    "\n",
    "# @TODO: Initialize dictionary\n",
    "analysis= {}\n",
    "\n",
    "# @TODO: Open the csv file as an object\n",
    "with open (file_path,'r') as csvfile:\n",
    "\n",
    "    # @TODO: Pass in the csv file to the csv.reader() function\n",
    "    # (with ',' as the delmiter/separator) and return the csvreader object\n",
    "    csvreader= csv.reader(csvfile, delimiter= ',')\n",
    "\n",
    "    # @TODO: Read the header row first (skip this step if there is no header)\n",
    "    csv_header= next(csvreader)\n",
    "    \n",
    "    # @TODO: Print the header\n",
    "    print (csv_header)\n",
    "\n",
    "    # @TODO: Read each row of data after the header\n",
    "    for row in csvreader:\n",
    "\n",
    "        # @TODO: Print the row\n",
    "        print (row)\n",
    "        \n",
    "        # @TODO: Set the 'name', 'count', and 'revenue' variables for better\n",
    "        # readability, convert strings to ints for numerical calculations\n",
    "        name= row[0]\n",
    "        count= int (row[1])\n",
    "        revenue= int (row[2])\n",
    "\n",
    "\n",
    "        # @TODO: Calculate the average and round to the nearest 2 decimal places\n",
    "        average= round (revenue/count, 2)\n",
    "        \n",
    "        # @TODO:If name is not already in the analysis dict, initialize the dictionary\n",
    "        # Else continue to add to the existing key and nested key-value pairs\n",
    "        if name in analysis.keys():\n",
    "            analysis[name]= {'count':count, 'revenue':revenue}\n",
    "            \n",
    "        else:\n",
    "            analysis[name][\"count\"] += count\n",
    "            analysis[name][\"revenue\"] += revenue\n",
    "\n",
    "\n",
    "# @TODO: Set the header for aggregate.csv\n",
    "header= [\"Name\",\"Count\",\"Revenue\",\"Average\"]\n",
    "\n",
    "# @TODO: Set the path for the aggregate.csv\n",
    "output_path= Path('aggregate.csv')\n",
    "\n",
    "# @TODO: Open the output path as a file and pass into the 'csv.writer()' function\n",
    "# Set the delimiter/separater as a ','\n",
    "with open (output_path, 'w') as csvfile:\n",
    "    csvwriter= csv.writer(csvfile, delimiter= ',')\n",
    "\n",
    "\n",
    "    # @TODO: Write the header as the first row\n",
    "    csvwriter.writerow(header)\n",
    "    \n",
    "    # @TODO:\n",
    "    # Loop over every key in analysis and write the associated key (name) and\n",
    "    # nested key-value pairs (metrics)\n",
    "    for name in analysis:\n",
    "        csvwriter.writerow (\n",
    "        [\n",
    "            name,\n",
    "            analysis[name]['count'],\n",
    "            analysis[name]['revenue'],\n",
    "            round (analysis[name]['revenue']/analysis[name]['count'], 2)\n",
    "        ]\n",
    "        )\n",
    "        "
   ]
  },
  {
   "cell_type": "code",
   "execution_count": null,
   "metadata": {},
   "outputs": [],
   "source": []
  }
 ],
 "metadata": {
  "kernelspec": {
   "display_name": "Python 3",
   "language": "python",
   "name": "python3"
  },
  "language_info": {
   "codemirror_mode": {
    "name": "ipython",
    "version": 3
   },
   "file_extension": ".py",
   "mimetype": "text/x-python",
   "name": "python",
   "nbconvert_exporter": "python",
   "pygments_lexer": "ipython3",
   "version": "3.8.3"
  }
 },
 "nbformat": 4,
 "nbformat_minor": 4
}
