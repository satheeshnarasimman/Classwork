{
 "cells": [
  {
   "cell_type": "code",
   "execution_count": 4,
   "metadata": {},
   "outputs": [
    {
     "name": "stdin",
     "output_type": "stream",
     "text": [
      "Welcome to the Boba Shop! What is your name? Satheesh\n"
     ]
    },
    {
     "name": "stdout",
     "output_type": "stream",
     "text": [
      "Hello, Satheesh\n"
     ]
    },
    {
     "name": "stdin",
     "output_type": "stream",
     "text": [
      "What kind of boba drink would you like? Mocha\n",
      "How sweet do you want your drink: 0, 50, 100, or 200? 50\n"
     ]
    },
    {
     "name": "stdout",
     "output_type": "stream",
     "text": [
      "non-sweet\n",
      "Your order of Mocha boba with a sweet level of 50\n"
     ]
    }
   ],
   "source": [
    "# Declare a variable of `name` with an input and a string of \"Welcome to the Boba Shop! What is your name?\".\n",
    "name= input(\"Welcome to the Boba Shop! What is your name?\")\n",
    "\n",
    "# Check if `name` is not an empty string or equal to `None`.\n",
    "if name!=\"\" or name== \"None\":\n",
    "\n",
    "    # If so, write a print with a string of \"Hello\" concatenated with the variable `name`.\n",
    "    print (f\"Hello, {name}\")\n",
    "\n",
    "    # Then, declare a variable of `beverage` with an input and a string of \"What kind of boba drink would you like?\".\n",
    "    beverage= input(\"What kind of boba drink would you like?\")\n",
    "\n",
    "    # Then, Declare a variable of `sweetness` with an input and a string of \"How sweet do you want your drink: 0, 50, 100, or 200?\".\n",
    "    sweetness= input(\"How sweet do you want your drink: 0, 50, 100, or 200?\")\n",
    "\n",
    "    # If `sweetness` equals 50 print \"half sweetened\".\n",
    "    if sweetness== 50:\n",
    "        print (\"half sweetened\")\n",
    "    # Else if `sweetness` 100 print \"normal sweet\".\n",
    "    elif sweetness== 100:\n",
    "        print (\"normal sweet\")\n",
    "    # Else if `sweetness` 200 print \"super sweet\".\n",
    "    elif sweetness== 200:\n",
    "        print (\"print sweet\")\n",
    "    # Else print with a string of \"non-sweet\".\n",
    "    else:\n",
    "        print (\"non-sweet\")\n",
    "\n",
    "    # Then print the string of \"Your order of \" concatenated with the variable `beverage`, concatenated with \" boba with a sweet level of \", concatenated with the variable `sweetness`\n",
    "    print (f\"Your order of {beverage} boba with a sweet level of {sweetness}\")\n",
    "\n",
    "# Else, print the string of \"You didn't give us your name! Goodbye\"\n",
    "else:\n",
    "    print (\"You didnt give us a name! Goodbye\")"
   ]
  },
  {
   "cell_type": "code",
   "execution_count": null,
   "metadata": {},
   "outputs": [],
   "source": []
  }
 ],
 "metadata": {
  "kernelspec": {
   "display_name": "Python 3",
   "language": "python",
   "name": "python3"
  },
  "language_info": {
   "codemirror_mode": {
    "name": "ipython",
    "version": 3
   },
   "file_extension": ".py",
   "mimetype": "text/x-python",
   "name": "python",
   "nbconvert_exporter": "python",
   "pygments_lexer": "ipython3",
   "version": "3.8.3"
  }
 },
 "nbformat": 4,
 "nbformat_minor": 4
}
