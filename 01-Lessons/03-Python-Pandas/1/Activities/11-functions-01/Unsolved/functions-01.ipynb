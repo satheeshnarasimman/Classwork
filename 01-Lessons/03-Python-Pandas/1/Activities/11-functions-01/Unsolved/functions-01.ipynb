{
 "cells": [
  {
   "cell_type": "code",
   "execution_count": null,
   "metadata": {},
   "outputs": [],
   "source": [
    "# Define a function `having_fun` that prints \"Functions are FUN!\".\n",
    "def having_fun():\n",
    "    print (\"Functions are FUN!\")\n",
    "\n",
    "# Define a function `thirty_seven` that prints the sum of 18 and 19.\n",
    "def thirty_seven():\n",
    "    add= 18+19\n",
    "    print(add)\n",
    "\n",
    "# Call the two functions you've defined so far.\n",
    "having_fun()\n",
    "thirty_seven()\n",
    "\n",
    "# Define a function `hello` that takes in a string parameter and prints the parameter variable.\n",
    "def hello(string_param):\n",
    "    print (string_param)\n",
    "\n",
    "# Call your `hello` function.\n",
    "hello(\"Hello World\")\n",
    "\n",
    "# Define a function `user_input` that asks the user \"What is your name?\" and stores it in a variable called `user_name` and print the user's name.\n",
    "def user_input(user_name):\n",
    "    print (user_name)\n",
    "\n",
    "# Call your `user_input` function.\n",
    "user_input(\"What is your name\")\n",
    "\n",
    "# Define a function `good_day` that creates a input dialogue asking the user \"Are you having a nice day?\" and prints the response.\n",
    "def good_day():\n",
    "    response= input (\"Are you having a nice day (Y/N)\")\n",
    "\n",
    "# Call your `good_day` function.\n",
    "good_day()\n",
    "\n",
    "# Define a function `average` that calculates the average between two parameters and returns the average.\n",
    "def average(num1,num2):\n",
    "    avg= (num1+num2)/ 2\n",
    "    return avg\n",
    "\n",
    "# Call the `average` function and assign to a variable `calculated_average`.\n",
    "calculated_average= average(90,100)\n",
    "print(calculated_average)"
   ]
  },
  {
   "cell_type": "code",
   "execution_count": null,
   "metadata": {},
   "outputs": [],
   "source": []
  }
 ],
 "metadata": {
  "kernelspec": {
   "display_name": "Python 3",
   "language": "python",
   "name": "python3"
  },
  "language_info": {
   "codemirror_mode": {
    "name": "ipython",
    "version": 3
   },
   "file_extension": ".py",
   "mimetype": "text/x-python",
   "name": "python",
   "nbconvert_exporter": "python",
   "pygments_lexer": "ipython3",
   "version": "3.8.3"
  }
 },
 "nbformat": 4,
 "nbformat_minor": 4
}
