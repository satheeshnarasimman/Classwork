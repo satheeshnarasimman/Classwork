{
 "cells": [
  {
   "cell_type": "code",
   "execution_count": 4,
   "metadata": {},
   "outputs": [
    {
     "name": "stdin",
     "output_type": "stream",
     "text": [
      "Input your password satheesh\n"
     ]
    },
    {
     "name": "stdout",
     "output_type": "stream",
     "text": [
      "Strong password\n"
     ]
    }
   ],
   "source": [
    "# Import the `string` library.\n",
    "import string\n",
    "\n",
    "# Use the `string` library to initialize string variables representing all valid letters and digits, respectively.\n",
    "valid_letters= string.ascii_letters\n",
    "valid_numbers= string.digits\n",
    "\n",
    "# Define a function called `check_strength` that takes in a string parameter called `password`.\n",
    "def check_strength(password):\n",
    "\n",
    "    # Create two boolean variables called `contains_number` and `contains_letter`. Set them to False.\n",
    "    contains_number= False\n",
    "    contains_letter= False\n",
    "\n",
    "    # Initialize a `count` variable and set it to 0.\n",
    "    count= 0\n",
    "\n",
    "    # Loop through each character in the `password` and increment the `count` variable by 1 for each character.\n",
    "    for character in password:\n",
    "        count+= 1\n",
    "\n",
    "        # Create an if-else statement that loops through each character in `password` and updates `contains_number` or `contains_letter` to True.\n",
    "        if character in valid_numbers:\n",
    "            contains_number= True\n",
    "        elif character in valid_letters:\n",
    "            contains_letters= True\n",
    "\n",
    "    # If `password` contains equal to or fewer than 6 characters and consists only of numbers, print \"Your password is too weak.\"\n",
    "    # Else if `password` contains more than 6 characters and consists of at least one number and at least one letter, print \"Your password is a strong password\".\n",
    "    # Else, print \"Your password is of average strength.\"\n",
    "    if contains_number== True and contains_letter== True and count<6:\n",
    "        print (\"Your password is too weak\")\n",
    "    else:\n",
    "        print (\"Strong password\")\n",
    "\n",
    "# Declare a variable as `user_input_password` with an input stating \"Input your password: \".\n",
    "user_input_password= input(\"Input your password\")\n",
    "\n",
    "# Call the check_strength function with the `user_input_password`.\n",
    "check_strength(user_input_password)\n"
   ]
  },
  {
   "cell_type": "code",
   "execution_count": null,
   "metadata": {},
   "outputs": [],
   "source": []
  }
 ],
 "metadata": {
  "kernelspec": {
   "display_name": "Python 3",
   "language": "python",
   "name": "python3"
  },
  "language_info": {
   "codemirror_mode": {
    "name": "ipython",
    "version": 3
   },
   "file_extension": ".py",
   "mimetype": "text/x-python",
   "name": "python",
   "nbconvert_exporter": "python",
   "pygments_lexer": "ipython3",
   "version": "3.8.3"
  }
 },
 "nbformat": 4,
 "nbformat_minor": 4
}
