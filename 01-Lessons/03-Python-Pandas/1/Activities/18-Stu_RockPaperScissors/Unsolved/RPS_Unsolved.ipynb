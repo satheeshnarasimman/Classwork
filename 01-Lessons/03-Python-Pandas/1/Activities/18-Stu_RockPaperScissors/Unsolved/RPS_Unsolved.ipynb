{
 "cells": [
  {
   "cell_type": "code",
   "execution_count": 12,
   "metadata": {},
   "outputs": [
    {
     "name": "stdout",
     "output_type": "stream",
     "text": [
      "Let's Play Rock Paper Scissors!\n"
     ]
    },
    {
     "name": "stdin",
     "output_type": "stream",
     "text": [
      "Make your Choice: (r)ock, (p)aper, (s)cissors?  Paper\n"
     ]
    },
    {
     "name": "stdout",
     "output_type": "stream",
     "text": [
      "Game is tied\n"
     ]
    }
   ],
   "source": [
    "# Incorporate the random library\n",
    "import random\n",
    "\n",
    "# Print Title\n",
    "print(\"Let's Play Rock Paper Scissors!\")\n",
    "\n",
    "# Specify the three options\n",
    "options = [\"r\", \"p\", \"s\"]\n",
    "\n",
    "# Computer Selection\n",
    "computer_choice = random.choice(options)\n",
    "\n",
    "# User Selection\n",
    "user_choice = input(\"Make your Choice: (r)ock, (p)aper, (s)cissors? \")\n",
    "\n",
    "# Run Conditionals\n",
    "if (computer_choice== \"r\" and user_choice== \"Scissors\") or (computer_choice== \"p\" and user_choice== \"Rock\") or (computer_choice== \"s\" and user_choice== \"Paper\"):\n",
    "    print (\"Computer is the winner\")\n",
    "    \n",
    "elif computer_choice== \"r\" and user_choice== \"Rock\" or computer_choice== \"p\" and user_choice== \"Paper\" or computer_choice== \"s\" and user_choice== \"Scissors\":\n",
    "    print (\"Game is tied\")\n",
    "elif computer_choice== \"r\" and user_choice== \"Paper\" or computer_choice== \"p\" and user_choice== \"Scissors\" or computer_choice== \"s\" and user_choice== \"Rock\":\n",
    "    print (\"You win the game\")"
   ]
  },
  {
   "cell_type": "code",
   "execution_count": null,
   "metadata": {},
   "outputs": [],
   "source": []
  }
 ],
 "metadata": {
  "kernelspec": {
   "display_name": "Python 3",
   "language": "python",
   "name": "python3"
  },
  "language_info": {
   "codemirror_mode": {
    "name": "ipython",
    "version": 3
   },
   "file_extension": ".py",
   "mimetype": "text/x-python",
   "name": "python",
   "nbconvert_exporter": "python",
   "pygments_lexer": "ipython3",
   "version": "3.8.3"
  }
 },
 "nbformat": 4,
 "nbformat_minor": 4
}
