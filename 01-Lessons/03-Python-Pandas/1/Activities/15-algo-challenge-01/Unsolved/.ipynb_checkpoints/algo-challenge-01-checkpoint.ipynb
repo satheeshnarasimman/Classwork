{
 "cells": [
  {
   "cell_type": "code",
   "execution_count": 5,
   "metadata": {},
   "outputs": [
    {
     "ename": "SyntaxError",
     "evalue": "unexpected EOF while parsing (<ipython-input-5-1dba36bddd78>, line 62)",
     "output_type": "error",
     "traceback": [
      "\u001b[1;36m  File \u001b[1;32m\"<ipython-input-5-1dba36bddd78>\"\u001b[1;36m, line \u001b[1;32m62\u001b[0m\n\u001b[1;33m    # This code is to help you test your function\u001b[0m\n\u001b[1;37m                                                 ^\u001b[0m\n\u001b[1;31mSyntaxError\u001b[0m\u001b[1;31m:\u001b[0m unexpected EOF while parsing\n"
     ]
    }
   ],
   "source": [
    "# Import the `random` library.\n",
    "import random\n",
    "# Answer each question with the correct coding solution.\n",
    "\n",
    "# QUESTION 1: Create a function called `number_guess` that takes in an integer as an argument.\n",
    "# If the number is 42, print(true). If it isn't 42, print(false) \n",
    "def number_guess (number):\n",
    "    if number== 42:\n",
    "        print (True)\n",
    "    else:\n",
    "        print (False)\n",
    "\n",
    "# This code is to help you test your function\n",
    "number_guess(42)\n",
    "\n",
    "# QUESTION 2: Write a function that takes in a list of numbers. the function should print the smallest number in the given list\n",
    "def small_num (input_list):\n",
    "    smallest= 0\n",
    "    \n",
    "    for integer in input_list:\n",
    "        if integer== smallest:\n",
    "            smallest= integer\n",
    "        elif integer< smallest:\n",
    "            smallest= integer\n",
    "    \n",
    "    print (smallest)\n",
    "\n",
    "# This code is to help you test your function\n",
    "num= [-2,4,6,8,10]\n",
    "small_num(num)\n",
    "\n",
    "# QUESTION 3: Write a function which takes in a list of strings. The function should print the shortest string in the list.\n",
    "def find_shortest(string_param):\n",
    "    shortest_string= \"\"\n",
    "    shortest_count= 0\n",
    "    \n",
    "    for string in string_param:\n",
    "        \n",
    "        if len(string)== 0:\n",
    "            shortest_string= string\n",
    "            shortest_count= len(string)\n",
    "    \n",
    "        elif len(string)> shortest_count:\n",
    "            shortest_string= string\n",
    "            shortest_count= len(string)\n",
    "            \n",
    "print (f\"The shortest string is {shortest_string} with a length of {shortest_count}\")\n",
    "\n",
    "# This code is to help you test your function\n",
    "list= [apple, orange, banana, Sig]\n",
    "find_shortest (list)\n",
    "\n",
    "#QUESTION 4: Write a function that takes in three arguments: a high value, a low value and a list of numbers.\n",
    "# The function should print a new list of numbers where the elements are greater than the low value and less than the high value\n",
    "def filter_list (high, low, list_int):\n",
    "    filtered_list= []\n",
    "    \n",
    "    for number in list_param:\n",
    "        if number> low and number< high:\n",
    "        filtered_list.append(number)\n",
    "\n",
    "# This code is to help you test your function\n"
   ]
  },
  {
   "cell_type": "code",
   "execution_count": null,
   "metadata": {},
   "outputs": [],
   "source": []
  },
  {
   "cell_type": "code",
   "execution_count": null,
   "metadata": {},
   "outputs": [],
   "source": []
  }
 ],
 "metadata": {
  "kernelspec": {
   "display_name": "Python 3",
   "language": "python",
   "name": "python3"
  },
  "language_info": {
   "codemirror_mode": {
    "name": "ipython",
    "version": 3
   },
   "file_extension": ".py",
   "mimetype": "text/x-python",
   "name": "python",
   "nbconvert_exporter": "python",
   "pygments_lexer": "ipython3",
   "version": "3.8.3"
  }
 },
 "nbformat": 4,
 "nbformat_minor": 4
}
