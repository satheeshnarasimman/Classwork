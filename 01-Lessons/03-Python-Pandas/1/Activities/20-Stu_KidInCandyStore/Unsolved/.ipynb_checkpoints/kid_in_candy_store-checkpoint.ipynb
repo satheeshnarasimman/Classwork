{
 "cells": [
  {
   "cell_type": "code",
   "execution_count": null,
   "metadata": {},
   "outputs": [
    {
     "name": "stdout",
     "output_type": "stream",
     "text": [
      "Which candy would you like to bring home?\n"
     ]
    },
    {
     "name": "stdin",
     "output_type": "stream",
     "text": [
      "Input the number of the candy you want:  3\n",
      "Input the number of the candy you want:  4\n",
      "Input the number of the candy you want:  5\n"
     ]
    }
   ],
   "source": [
    "# The list of candies to print to the screen\n",
    "candy_list = [\n",
    "    \"Snickers\",\n",
    "    \"Kit Kat\",\n",
    "    \"Sour Patch Kids\",\n",
    "    \"Juicy Fruit\",\n",
    "    \"Swedish Fish\",\n",
    "    \"Skittles\",\n",
    "    \"Hershey Bar\",\n",
    "    \"Starbursts\",\n",
    "    \"M&Ms\"\n",
    "]\n",
    "\n",
    "# The amount of candy the user will be allowed to choose\n",
    "allowance = 5\n",
    "\n",
    "# The list used to store all of the candies selected inside of\n",
    "candy_cart = []\n",
    "\n",
    "# Print all of the candies to the screen and their index in brackets\n",
    "# for candy in candy_list:\n",
    "    # print(f'[{str(candy_list.index(candy))}] {candy}')\n",
    "\n",
    "# Another option to run the for loop involves Python's enumerate method\n",
    "# This method obtains both the index and the value of an item during a for loop\n",
    "# for index, candy in candy_list:\n",
    "#     print(index, candy)\n",
    "\n",
    "# Run through a loop which allows the user to choose which candies to take home with them\n",
    "print(\"Which candy would you like to bring home?\")\n",
    "for x in range(allowance):\n",
    "    selected = input(\"Input the number of the candy you want: \")\n",
    "\n",
    "    # Add the candy at the index chosen to the candy_cart list\n",
    "    candy_cart.append(candy_list[int(selected)])\n",
    "\n",
    "# Loop through the candy_cart to say what candies were brought home\n",
    "print(\"I brought home with me...\")\n",
    "for candy in candy_cart:\n",
    "    print(candy)"
   ]
  },
  {
   "cell_type": "code",
   "execution_count": null,
   "metadata": {},
   "outputs": [],
   "source": []
  }
 ],
 "metadata": {
  "kernelspec": {
   "display_name": "Python 3",
   "language": "python",
   "name": "python3"
  },
  "language_info": {
   "codemirror_mode": {
    "name": "ipython",
    "version": 3
   },
   "file_extension": ".py",
   "mimetype": "text/x-python",
   "name": "python",
   "nbconvert_exporter": "python",
   "pygments_lexer": "ipython3",
   "version": "3.8.3"
  }
 },
 "nbformat": 4,
 "nbformat_minor": 4
}
