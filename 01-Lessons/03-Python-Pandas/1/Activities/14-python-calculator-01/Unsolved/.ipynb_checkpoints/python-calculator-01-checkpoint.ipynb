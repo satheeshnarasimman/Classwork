{
 "cells": [
  {
   "cell_type": "code",
   "execution_count": 5,
   "metadata": {},
   "outputs": [
    {
     "name": "stdin",
     "output_type": "stream",
     "text": [
      "What do you want to do: Add, Subtract, Multiply or Divide? Divide\n"
     ]
    },
    {
     "name": "stdout",
     "output_type": "stream",
     "text": [
      "0.5050505050505051\n"
     ]
    }
   ],
   "source": [
    "# Define a function `calculate` that takes in two numbers and adds, subtracts, multiplies, or divides the two numbers.\n",
    "def calculate(num1,num2):\n",
    "    add= num1+num2\n",
    "    sub= num1-num2\n",
    "    mult= num1*num2\n",
    "    div= num1/num2\n",
    "    # Create a variable `result` and set it to 0.\n",
    "    result= 0\n",
    "\n",
    "    # Prompt the user \"What do you want to do: Add, Subtract, Multiply or Divide?\" and assign the answer to a variable `choice`.\n",
    "    choice= input (\"What do you want to do: Add, Subtract, Multiply or Divide?\")\n",
    "\n",
    "    # Create an if-else statement to perform the proper calculation with the two parameters based on the user's `choice`.\n",
    "    if choice== 'Add':\n",
    "        result= add\n",
    "    if choice== 'Subtract':\n",
    "        result= sub\n",
    "    if choice== 'Multiply':\n",
    "        result= mult\n",
    "    if choice== 'Divide':\n",
    "        result= div\n",
    "\n",
    "\n",
    "    # Return the calculated `result` variable.\n",
    "    return result\n",
    "\n",
    "# Call the `calculate` function and print the results.\n",
    "print (calculate (50,99))\n"
   ]
  },
  {
   "cell_type": "code",
   "execution_count": null,
   "metadata": {},
   "outputs": [],
   "source": []
  }
 ],
 "metadata": {
  "kernelspec": {
   "display_name": "Python 3",
   "language": "python",
   "name": "python3"
  },
  "language_info": {
   "codemirror_mode": {
    "name": "ipython",
    "version": 3
   },
   "file_extension": ".py",
   "mimetype": "text/x-python",
   "name": "python",
   "nbconvert_exporter": "python",
   "pygments_lexer": "ipython3",
   "version": "3.8.3"
  }
 },
 "nbformat": 4,
 "nbformat_minor": 4
}
