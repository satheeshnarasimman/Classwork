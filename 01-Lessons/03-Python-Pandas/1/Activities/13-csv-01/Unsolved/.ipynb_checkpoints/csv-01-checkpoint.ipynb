{
 "cells": [
  {
   "cell_type": "code",
   "execution_count": 4,
   "metadata": {},
   "outputs": [
    {
     "name": "stdout",
     "output_type": "stream",
     "text": [
      "Heaviest: ['snorlax', 'steelix', 'aggron', 'wailord', 'metagross', 'kyogre', 'groudon', 'torterra', 'probopass', 'dialga', 'palkia', 'heatran', 'regigigas', 'giratina-altered', 'arceus', 'golurk', 'reshiram', 'zekrom', 'kyurem', 'avalugg', 'zygarde', 'mudsdale', 'cosmoem', 'buzzwole', 'celesteela', 'guzzlord', 'stakataka']\n",
      "Tallest: ['onix', 'gyarados', 'steelix', 'lugia', 'wailord', 'milotic', 'rayquaza', 'dialga', 'yveltal', 'celesteela', 'guzzlord', 'stakataka']\n"
     ]
    }
   ],
   "source": [
    "# Import the necessary libraries for reading csv files\n",
    "import os\n",
    "import csv\n",
    "\n",
    "# Set the path for the csv file\n",
    "csvpath= os.path.join(\"..\",\"Resources\",\"pokemon.csv\")\n",
    "\n",
    "# Create new lists to store data for heaviest and tallest pokemon\n",
    "heaviest= []\n",
    "tallest= []\n",
    "\n",
    "# Open the csv\n",
    "with open(csvpath, newline=\"\") as csvfile:\n",
    "    csvreader= csv.reader(csvfile, delimiter= ',')\n",
    "\n",
    "    # Iterate through the data and search for the number the user inputted. Remember to skip the header of the CSV.\n",
    "    csvheader= next(csvreader)\n",
    "\n",
    "    for row in csvreader:\n",
    "        # Print the name of the pokemon(identifier) and pokedex number(species id) at that number. For example, \"Pokemon No. 25 - pikachu\".\n",
    "\n",
    "        # Iterate through the data and search for pokemon whose weight is greater than 3000. Append only the pokemon's name and weight to the 'heaviest' list.\n",
    "        if int(row[4])>3000:\n",
    "            heaviest.append(row[1])\n",
    "\n",
    "        # Iterate through the data and search for pokemon whose height is greater than 50. Append only the pokemon's name and height to the 'tallest' list.\n",
    "        if int(row[3])>50:\n",
    "            tallest.append(row[1])\n",
    "\n",
    "# Print the list of heaviest and tallest pokemon\n",
    "print (f\"Heaviest: {heaviest}\")\n",
    "print (f\"Tallest: {tallest}\")"
   ]
  },
  {
   "cell_type": "code",
   "execution_count": null,
   "metadata": {},
   "outputs": [],
   "source": []
  }
 ],
 "metadata": {
  "kernelspec": {
   "display_name": "Python 3",
   "language": "python",
   "name": "python3"
  },
  "language_info": {
   "codemirror_mode": {
    "name": "ipython",
    "version": 3
   },
   "file_extension": ".py",
   "mimetype": "text/x-python",
   "name": "python",
   "nbconvert_exporter": "python",
   "pygments_lexer": "ipython3",
   "version": "3.8.3"
  }
 },
 "nbformat": 4,
 "nbformat_minor": 4
}
