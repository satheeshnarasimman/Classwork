{
 "cells": [
  {
   "cell_type": "code",
   "execution_count": 1,
   "metadata": {},
   "outputs": [
    {
     "name": "stdout",
     "output_type": "stream",
     "text": [
      "3\n",
      "5\n",
      "10\n"
     ]
    },
    {
     "ename": "IndexError",
     "evalue": "list index out of range",
     "output_type": "error",
     "traceback": [
      "\u001b[1;31m---------------------------------------------------------------------------\u001b[0m",
      "\u001b[1;31mIndexError\u001b[0m                                Traceback (most recent call last)",
      "\u001b[1;32m<ipython-input-1-42a4ca1fca9a>\u001b[0m in \u001b[0;36m<module>\u001b[1;34m\u001b[0m\n\u001b[0;32m     21\u001b[0m \u001b[1;33m\u001b[0m\u001b[0m\n\u001b[0;32m     22\u001b[0m \u001b[1;31m# Print the 4th index of `list_4`.\u001b[0m\u001b[1;33m\u001b[0m\u001b[1;33m\u001b[0m\u001b[1;33m\u001b[0m\u001b[0m\n\u001b[1;32m---> 23\u001b[1;33m \u001b[0mprint\u001b[0m \u001b[1;33m(\u001b[0m\u001b[0mlist_4\u001b[0m\u001b[1;33m[\u001b[0m\u001b[1;36m4\u001b[0m\u001b[1;33m]\u001b[0m\u001b[1;33m)\u001b[0m\u001b[1;33m\u001b[0m\u001b[1;33m\u001b[0m\u001b[0m\n\u001b[0m",
      "\u001b[1;31mIndexError\u001b[0m: list index out of range"
     ]
    }
   ],
   "source": [
    "# Create a list, `list_1`,  with `0`, `1`, `2`, `3` as values.\n",
    "list_1= ['0','1','2','3']\n",
    "\n",
    "# Create a list, `list_2` with `4`, `5`, `6`, `7` as values.\n",
    "list_2= ['4','5','6','7']\n",
    "\n",
    "# Create a list, `list_3` with `8`, `9`, `10`, `11` as values.\n",
    "list_3= ['8','9','10','11']\n",
    "\n",
    "# Create a list, `list_4` with `12`, `13`, `14`, `15` as values.\n",
    "list_4= ['12','13','14','15']\n",
    "\n",
    "# Print the 3rd index of `list_1`.\n",
    "print (list_1[3])\n",
    "\n",
    "# Print the 1st index of `list_2`.\n",
    "print (list_2[1])\n",
    "\n",
    "# Print the 2nd index of `list_3`.\n",
    "print (list_3[2])\n",
    "\n",
    "# Print the 4th index of `list_4`.\n",
    "print (list_4[4])"
   ]
  },
  {
   "cell_type": "code",
   "execution_count": null,
   "metadata": {},
   "outputs": [],
   "source": []
  }
 ],
 "metadata": {
  "kernelspec": {
   "display_name": "Python 3",
   "language": "python",
   "name": "python3"
  },
  "language_info": {
   "codemirror_mode": {
    "name": "ipython",
    "version": 3
   },
   "file_extension": ".py",
   "mimetype": "text/x-python",
   "name": "python",
   "nbconvert_exporter": "python",
   "pygments_lexer": "ipython3",
   "version": "3.8.3"
  }
 },
 "nbformat": 4,
 "nbformat_minor": 4
}
