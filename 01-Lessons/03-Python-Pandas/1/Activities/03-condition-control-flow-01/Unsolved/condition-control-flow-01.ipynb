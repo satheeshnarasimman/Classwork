{
 "cells": [
  {
   "cell_type": "code",
   "execution_count": 5,
   "metadata": {},
   "outputs": [
    {
     "name": "stdout",
     "output_type": "stream",
     "text": [
      "This animal is neither Godzilla nor Mothra!\n",
      "See Spot run\n",
      "I drive Farley around San Francisco in my Prius\n",
      "Your total cost is 4250\n",
      "The rent is too damn high\n"
     ]
    }
   ],
   "source": [
    "# Create a list called 'farm' with the elements \"pig\", \"cow\", \"chicken\", \"dog\", \"horse\", \"sheep\".\n",
    "farm= [\"pig\", \"cow\", \"chicken\", \"dog\", \"horse\", \"sheep\"]\n",
    "\n",
    "# Write an if statement that prints the string \"RWAR!\" if the first element of farm is NOT \"Godzilla\".\n",
    "if farm[0]== \"Godzilla\":\n",
    "    print (str (\"RWAR!\"))\n",
    "\n",
    "# Write an else if statement that prints the string \"SCREECH!\" if the last element of farm is \"Mothra\".\n",
    "if farm[-1]== \"Mothra\":\n",
    "    print (\"SCREECH\")\n",
    "\n",
    "# Else, print the string \"This animal is neither Godzilla nor Mothra!\".\n",
    "else:\n",
    "    print (\"This animal is neither Godzilla nor Mothra!\")\n",
    "\n",
    "# Declare a variable named 'dog' with a string of \"Spot\".\n",
    "dog= \"Spot\"\n",
    "\n",
    "# Declare 3 variables `cat`, `city`, `car` without assigning them values.\n",
    "cat, city, car= None, None, None\n",
    "\n",
    "# Assign the string \"Farley\" to `cat`.\n",
    "cat= \"Farley\"\n",
    "\n",
    "# Assign the string \"San Francisco\" to `city`.\n",
    "city= \"San Francisco\"\n",
    "\n",
    "# Assign the string \"Prius\" to `car`.\n",
    "car= \"Prius\"\n",
    "\n",
    "# Using string concatenation, print out the sentence \"See Spot run!\".\n",
    "print (f\"See {dog} run\")\n",
    "\n",
    "# Using string concatenation, print out the sentence \"I drive Farley around San Francisco in my Prius\".\n",
    "print(f\"I drive {cat} around {city} in my {car}\")\n",
    "\n",
    "# Declare a variable budget and assign it a value of 5000.\n",
    "budget= 5000\n",
    "\n",
    "# Declare a variable rent_cost and assign it a value of 1500.\n",
    "rent_cost= 1500\n",
    "\n",
    "# Declare a variable utilities_cost and assign it a value of 150.\n",
    "utilities_cost= 150\n",
    "\n",
    "# Declare a variable food_cost and assign it a value of 250.\n",
    "food_cost= 250\n",
    "\n",
    "# Declare a variable transportation_cost and assign it a value of 350.\n",
    "transportation_cost= 350\n",
    "\n",
    "# Declare a variable computer_cost and assign it a value of 2000.\n",
    "computer_cost= 2000\n",
    "\n",
    "# Declare a variable called total_cost that takes the sum of all costs above (excluding budget).\n",
    "total_cost= rent_cost+utilities_cost+food_cost+transportation_cost+computer_cost\n",
    "\n",
    "# Write an if statement that checks whether the sum of all our costs is within the budget.\n",
    "# If so, print \"You're total cost is \" concatentated with the `total_cost` variable.\n",
    "# Else, print \"You're over budget by \" concatenated with the difference between `budget` and `total_cost`.\n",
    "if total_cost< budget:\n",
    "    print(f\"Your total cost is {total_cost}\")\n",
    "else:\n",
    "    print(f\"You are over budget by {budget}- {total_cost}\")\n",
    "\n",
    "# Write an if statement that checks whether the rent_cost is larger than the sum of the `utilities_cost`, `food_cost`,\n",
    "# and `transportation_cost`. If so, print a string that says \"The rent is too damn high!\".\n",
    "# Else, print a string that says \"Ahhh just right!\"\n",
    "if rent_cost> (utilities_cost+food_cost+transportation_cost):\n",
    "    print (\"The rent is too damn high\")\n",
    "else:\n",
    "    print (\"Ahh just right\")"
   ]
  },
  {
   "cell_type": "code",
   "execution_count": null,
   "metadata": {},
   "outputs": [],
   "source": []
  }
 ],
 "metadata": {
  "kernelspec": {
   "display_name": "Python 3",
   "language": "python",
   "name": "python3"
  },
  "language_info": {
   "codemirror_mode": {
    "name": "ipython",
    "version": 3
   },
   "file_extension": ".py",
   "mimetype": "text/x-python",
   "name": "python",
   "nbconvert_exporter": "python",
   "pygments_lexer": "ipython3",
   "version": "3.8.3"
  }
 },
 "nbformat": 4,
 "nbformat_minor": 4
}
