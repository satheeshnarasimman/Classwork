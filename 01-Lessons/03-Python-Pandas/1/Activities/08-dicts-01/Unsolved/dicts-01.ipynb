{
 "cells": [
  {
   "cell_type": "code",
   "execution_count": 1,
   "metadata": {},
   "outputs": [
    {
     "name": "stdout",
     "output_type": "stream",
     "text": [
      "{'west_coast': True, 'has_multiple_bridges': True, 'known_for_pizza': False, 'coastal': True, 'snows': False, 'very_hot': False, 'mayor': 'London Breed', 'state': 'California', 'country': 'USA', 'best_food': 'burritos', 'sports_teams': ['Giants', 'Warriors', 'Forty-Niners'], 'tallest_building': 'SalesForce Building', 'population': 884363, 'city_size': 'large', 'median_house_price': 1610000, 'famous_residents': ['Maya Angelous', 'Robert Frost', 'Carlos Santana'], 'homeless_pop': 1150, 'political_leaning': 'Democrat', 'notable_attractions': ['Alcatraz', 'Golden Gate Bridge', \"Fisherman's Wharf\"], 'natural_disasters': ['Earthquakes']}\n"
     ]
    }
   ],
   "source": [
    "\n",
    "# san_francisco = {\n",
    "#     \"west_coast\": True,\n",
    "#     \"has_multiple_bridges\": True,\n",
    "#     \"known_for_pizza\": False,\n",
    "#     \"coastal\": True,\n",
    "#     \"snows\": False,\n",
    "#     \"very_hot\": False,\n",
    "#     \"mayor\": \"London Breed\",\n",
    "#     \"state\": \"California\",\n",
    "#     \"country\": \"USA\",\n",
    "#     \"best_food\": \"burritos\",\n",
    "#     \"sports_teams\": [\"Giants\", \"Warriors\", \"Forty-Niners\"],\n",
    "#     \"tallest_building\": \"SalesForce Building\",\n",
    "#     \"population\": 884363,\n",
    "#     \"city_size\": \"large\",\n",
    "#     \"median_house_price\": 1610000,\n",
    "#     \"famous_residents\": [\"Maya Angelou\", \"Robert Frost\", \"Carlos Santana\"],\n",
    "#     \"homeless_pop\": 1150,\n",
    "#     \"political_leaning\": \"Democrat\",\n",
    "#     \"notable_attractions\": [\"Alcatraz\", \"Golden Gate Bridge\", \"Fisherman's Wharf\"],\n",
    "#     \"natural_disasters\": [\"Earthquakes\"],\n",
    "# }\n",
    "\n",
    "# Re-create the content of the commented out `san_francisco` dictionary by using bracket notation to manually add each of the key-value pairs (including nested objects).\n",
    "san_francisco = {}\n",
    "\n",
    "san_francisco['west_coast'] = True\n",
    "san_francisco['has_multiple_bridges'] = True\n",
    "san_francisco['known_for_pizza'] = False\n",
    "san_francisco['coastal'] = True\n",
    "san_francisco['snows'] = False\n",
    "san_francisco['very_hot'] = False\n",
    "san_francisco['mayor'] = \"London Breed\"\n",
    "san_francisco['state'] = \"California\"\n",
    "san_francisco['country'] = \"USA\"\n",
    "san_francisco['best_food'] = \"burritos\"\n",
    "san_francisco['sports_teams'] = [\"Giants\", \"Warriors\", \"Forty-Niners\"]\n",
    "san_francisco['tallest_building'] = \"SalesForce Building\"\n",
    "san_francisco['population'] = 884363\n",
    "san_francisco['city_size'] = \"large\"\n",
    "san_francisco['median_house_price'] = 1610000\n",
    "san_francisco['famous_residents'] = [\"Maya Angelous\", \"Robert Frost\", \"Carlos Santana\"]\n",
    "san_francisco['homeless_pop'] = 1150\n",
    "san_francisco['political_leaning'] = \"Democrat\"\n",
    "san_francisco['notable_attractions'] = [\"Alcatraz\", \"Golden Gate Bridge\", \"Fisherman's Wharf\"]\n",
    "san_francisco['natural_disasters'] = [\"Earthquakes\"]\n",
    "\n",
    "# Print the manually modified `san_francisco` dictionary and confirm the contents match the commented out version.\n",
    "print(san_francisco)"
   ]
  },
  {
   "cell_type": "code",
   "execution_count": null,
   "metadata": {},
   "outputs": [],
   "source": []
  }
 ],
 "metadata": {
  "kernelspec": {
   "display_name": "Python 3",
   "language": "python",
   "name": "python3"
  },
  "language_info": {
   "codemirror_mode": {
    "name": "ipython",
    "version": 3
   },
   "file_extension": ".py",
   "mimetype": "text/x-python",
   "name": "python",
   "nbconvert_exporter": "python",
   "pygments_lexer": "ipython3",
   "version": "3.8.3"
  }
 },
 "nbformat": 4,
 "nbformat_minor": 4
}
