{
 "cells": [
  {
   "cell_type": "code",
   "execution_count": 14,
   "metadata": {},
   "outputs": [
    {
     "name": "stdout",
     "output_type": "stream",
     "text": [
      "Wibbly Bibbly\n",
      "Dance\n",
      "Satheesh\n",
      "Wibbly Satheesh arglebargle\n",
      "None\n"
     ]
    }
   ],
   "source": [
    "# Define a function \"warble\" that takes in a string as an argument, adds \" arglebargle\" to the end of it, and returns the result.\n",
    "def warble(string_param):\n",
    "    return (f\"{string_param} arglebargle\")\n",
    "\n",
    "# Print the result of calling your \"warble\" function with the argument \"hello\".\n",
    "warble(\"Hello\")\n",
    "\n",
    "# Define a function \"wibble\" that takes a string as an argument, prints the argument, prepends \"wibbly \" to the argument, and returns the result\n",
    "def wibble (string_param):\n",
    "    print (f\"Wibbly {string_param}\")\n",
    "\n",
    "# Print the result of calling your \"wibble\" function with the argument \"bibbly\"\n",
    "wibble(\"Bibbly\")\n",
    "\n",
    "# Define a function \"print_sum\" that takes in two numbers as arguments and prints the sum of those two numbers.\n",
    "def print_sum(num1,num2):\n",
    "    sums= num1+num2\n",
    "    print (sums)\n",
    "\n",
    "# Define a function \"return_sum\" that takes in two numbers as arguments and returns the sum of those two numbers\n",
    "def return_sum(num1,num2):\n",
    "    sums= num1+num2\n",
    "    return sums\n",
    "return_sum(75,45)\n",
    "\n",
    "# Using either \"return_sum\" and no mathematical operators, define a function \"triple_sum\" that takes in 3 arguments and returns the sum of those 3 numbers.\n",
    "def triple_sum(num1,num2,num3):\n",
    "    sums= num1+num2+num3\n",
    "    return sums\n",
    "triple_sum(75,45,29)\n",
    "\n",
    "# Define a function \"dance_party\" that takes in a string as an argument, that prints \"dance!\", updates the string from calling \"wibble\" function with that argument, updates the string from calling \"warble\" function with that argument, returns the updated string\n",
    "def dance_party(string_param):\n",
    "    print (\"Dance\")\n",
    "    print (string_param)\n",
    "    print (wibble(warble(string_param)))\n",
    "\n",
    "# Print the result of calling your \"dance_party\" function with your name as the argument\n",
    "dance_party(\"Satheesh\")\n"
   ]
  },
  {
   "cell_type": "code",
   "execution_count": null,
   "metadata": {},
   "outputs": [],
   "source": []
  }
 ],
 "metadata": {
  "kernelspec": {
   "display_name": "Python 3",
   "language": "python",
   "name": "python3"
  },
  "language_info": {
   "codemirror_mode": {
    "name": "ipython",
    "version": 3
   },
   "file_extension": ".py",
   "mimetype": "text/x-python",
   "name": "python",
   "nbconvert_exporter": "python",
   "pygments_lexer": "ipython3",
   "version": "3.8.3"
  }
 },
 "nbformat": 4,
 "nbformat_minor": 4
}
