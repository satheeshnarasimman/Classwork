{
 "cells": [
  {
   "cell_type": "markdown",
   "metadata": {},
   "source": [
    "# Spring Cleaning!"
   ]
  },
  {
   "cell_type": "markdown",
   "metadata": {},
   "source": [
    "Harold's stock data is a mess! Help him clean up his data before the auditors arrive!"
   ]
  },
  {
   "cell_type": "code",
   "execution_count": 2,
   "metadata": {},
   "outputs": [],
   "source": [
    "# Import Libraries\n",
    "import pandas as pd\n",
    "from pathlib import Path"
   ]
  },
  {
   "cell_type": "markdown",
   "metadata": {},
   "source": [
    "### Load CSV data into Pandas using `read_csv`"
   ]
  },
  {
   "cell_type": "code",
   "execution_count": 3,
   "metadata": {},
   "outputs": [],
   "source": [
    "csvpath= Path('../../Resources/stock_data.csv')\n",
    "df= pd.read_csv(csvpath)"
   ]
  },
  {
   "cell_type": "markdown",
   "metadata": {},
   "source": [
    "### Identify the number of rows and columns (shape) in the DataFrame."
   ]
  },
  {
   "cell_type": "code",
   "execution_count": 4,
   "metadata": {},
   "outputs": [
    {
     "data": {
      "text/plain": [
       "(504, 14)"
      ]
     },
     "execution_count": 4,
     "metadata": {},
     "output_type": "execute_result"
    }
   ],
   "source": [
    "df.shape"
   ]
  },
  {
   "cell_type": "markdown",
   "metadata": {},
   "source": [
    "### Generate a sample of the data to visually ensure data has been loaded in correctly."
   ]
  },
  {
   "cell_type": "code",
   "execution_count": 5,
   "metadata": {},
   "outputs": [
    {
     "data": {
      "text/html": [
       "<div>\n",
       "<style scoped>\n",
       "    .dataframe tbody tr th:only-of-type {\n",
       "        vertical-align: middle;\n",
       "    }\n",
       "\n",
       "    .dataframe tbody tr th {\n",
       "        vertical-align: top;\n",
       "    }\n",
       "\n",
       "    .dataframe thead th {\n",
       "        text-align: right;\n",
       "    }\n",
       "</style>\n",
       "<table border=\"1\" class=\"dataframe\">\n",
       "  <thead>\n",
       "    <tr style=\"text-align: right;\">\n",
       "      <th></th>\n",
       "      <th>symbol</th>\n",
       "      <th>name</th>\n",
       "      <th>sector</th>\n",
       "      <th>price</th>\n",
       "      <th>price_per_earnings</th>\n",
       "      <th>dividend_yield</th>\n",
       "      <th>earnings_per_share</th>\n",
       "      <th>52_week_low</th>\n",
       "      <th>52_week_high</th>\n",
       "      <th>market_cap</th>\n",
       "      <th>ebitda</th>\n",
       "      <th>price_per_sales</th>\n",
       "      <th>price_per_book</th>\n",
       "      <th>sec_filings</th>\n",
       "    </tr>\n",
       "  </thead>\n",
       "  <tbody>\n",
       "    <tr>\n",
       "      <th>80</th>\n",
       "      <td>AVGO</td>\n",
       "      <td>Broadcom</td>\n",
       "      <td>Information Technology</td>\n",
       "      <td>229.57</td>\n",
       "      <td>15.94</td>\n",
       "      <td>2.948858</td>\n",
       "      <td>4.01</td>\n",
       "      <td>285.680</td>\n",
       "      <td>202.61</td>\n",
       "      <td>9.279197e+10</td>\n",
       "      <td>7.016000e+09</td>\n",
       "      <td>6.961893</td>\n",
       "      <td>4.40</td>\n",
       "      <td>http://www.sec.gov/cgi-bin/browse-edgar?action...</td>\n",
       "    </tr>\n",
       "    <tr>\n",
       "      <th>1</th>\n",
       "      <td>AOS</td>\n",
       "      <td>A.O. Smith Corp</td>\n",
       "      <td>Industrials</td>\n",
       "      <td>NaN</td>\n",
       "      <td>NaN</td>\n",
       "      <td>NaN</td>\n",
       "      <td>NaN</td>\n",
       "      <td>NaN</td>\n",
       "      <td>NaN</td>\n",
       "      <td>NaN</td>\n",
       "      <td>NaN</td>\n",
       "      <td>NaN</td>\n",
       "      <td>NaN</td>\n",
       "      <td>NaN</td>\n",
       "    </tr>\n",
       "    <tr>\n",
       "      <th>333</th>\n",
       "      <td>NKE</td>\n",
       "      <td>Nike</td>\n",
       "      <td>Consumer Discretionary</td>\n",
       "      <td>62.49</td>\n",
       "      <td>24.90</td>\n",
       "      <td>1.218955</td>\n",
       "      <td>2.51</td>\n",
       "      <td>68.830</td>\n",
       "      <td>50.35</td>\n",
       "      <td>1.067761e+11</td>\n",
       "      <td>5.162000e+09</td>\n",
       "      <td>3.054993</td>\n",
       "      <td>8.91</td>\n",
       "      <td>http://www.sec.gov/cgi-bin/browse-edgar?action...</td>\n",
       "    </tr>\n",
       "    <tr>\n",
       "      <th>380</th>\n",
       "      <td>PVH</td>\n",
       "      <td>PVH Corp.</td>\n",
       "      <td>Consumer Discretionary</td>\n",
       "      <td>142.68</td>\n",
       "      <td>20.98</td>\n",
       "      <td>0.100529</td>\n",
       "      <td>6.77</td>\n",
       "      <td>157.960</td>\n",
       "      <td>84.53</td>\n",
       "      <td>1.147863e+10</td>\n",
       "      <td>1.057500e+09</td>\n",
       "      <td>1.761752</td>\n",
       "      <td>2.14</td>\n",
       "      <td>http://www.sec.gov/cgi-bin/browse-edgar?action...</td>\n",
       "    </tr>\n",
       "    <tr>\n",
       "      <th>386</th>\n",
       "      <td>RJF</td>\n",
       "      <td>Raymond James Financial Inc.</td>\n",
       "      <td>Financials</td>\n",
       "      <td>86.06</td>\n",
       "      <td>16.94</td>\n",
       "      <td>1.098298</td>\n",
       "      <td>4.12</td>\n",
       "      <td>99.100</td>\n",
       "      <td>71.35</td>\n",
       "      <td>1.321627e+10</td>\n",
       "      <td>0.000000e+00</td>\n",
       "      <td>1.973456</td>\n",
       "      <td>2.34</td>\n",
       "      <td>http://www.sec.gov/cgi-bin/browse-edgar?action...</td>\n",
       "    </tr>\n",
       "    <tr>\n",
       "      <th>235</th>\n",
       "      <td>HST</td>\n",
       "      <td>Host Hotels &amp; Resorts</td>\n",
       "      <td>Real Estate</td>\n",
       "      <td>18.75</td>\n",
       "      <td>11.23</td>\n",
       "      <td>4.113111</td>\n",
       "      <td>1.02</td>\n",
       "      <td>21.530</td>\n",
       "      <td>17.26</td>\n",
       "      <td>1.439472e+10</td>\n",
       "      <td>1.547000e+09</td>\n",
       "      <td>3.554913</td>\n",
       "      <td>2.02</td>\n",
       "      <td>http://www.sec.gov/cgi-bin/browse-edgar?action...</td>\n",
       "    </tr>\n",
       "    <tr>\n",
       "      <th>306</th>\n",
       "      <td>MGM</td>\n",
       "      <td>MGM Resorts International</td>\n",
       "      <td>Consumer Discretionary</td>\n",
       "      <td>33.5</td>\n",
       "      <td>29.65</td>\n",
       "      <td>1.268743</td>\n",
       "      <td>1.92</td>\n",
       "      <td>38.410</td>\n",
       "      <td>25.15</td>\n",
       "      <td>1.963367e+10</td>\n",
       "      <td>2.680385e+09</td>\n",
       "      <td>2.227672</td>\n",
       "      <td>3.09</td>\n",
       "      <td>http://www.sec.gov/cgi-bin/browse-edgar?action...</td>\n",
       "    </tr>\n",
       "    <tr>\n",
       "      <th>184</th>\n",
       "      <td>XOM</td>\n",
       "      <td>Exxon Mobil Corp.</td>\n",
       "      <td>Energy</td>\n",
       "      <td>76.07</td>\n",
       "      <td>21.37</td>\n",
       "      <td>4.003120</td>\n",
       "      <td>1.88</td>\n",
       "      <td>89.300</td>\n",
       "      <td>76.05</td>\n",
       "      <td>3.261487e+11</td>\n",
       "      <td>3.905200e+10</td>\n",
       "      <td>1.770194</td>\n",
       "      <td>1.85</td>\n",
       "      <td>http://www.sec.gov/cgi-bin/browse-edgar?action...</td>\n",
       "    </tr>\n",
       "    <tr>\n",
       "      <th>33</th>\n",
       "      <td>AXP</td>\n",
       "      <td>American Express Co</td>\n",
       "      <td>Financials</td>\n",
       "      <td>88.34</td>\n",
       "      <td>15.00</td>\n",
       "      <td>1.495567</td>\n",
       "      <td>2.9</td>\n",
       "      <td>102.385</td>\n",
       "      <td>75.51</td>\n",
       "      <td>8.041099e+10</td>\n",
       "      <td>0.000000e+00</td>\n",
       "      <td>2.273575</td>\n",
       "      <td>3.75</td>\n",
       "      <td>http://www.sec.gov/cgi-bin/browse-edgar?action...</td>\n",
       "    </tr>\n",
       "    <tr>\n",
       "      <th>418</th>\n",
       "      <td>SWK</td>\n",
       "      <td>Stanley Black &amp; Decker</td>\n",
       "      <td>Consumer Discretionary</td>\n",
       "      <td>152.86</td>\n",
       "      <td>20.57</td>\n",
       "      <td>1.577564</td>\n",
       "      <td>8.05</td>\n",
       "      <td>176.620</td>\n",
       "      <td>121.09</td>\n",
       "      <td>2.449640e+10</td>\n",
       "      <td>2.264600e+09</td>\n",
       "      <td>1.944325</td>\n",
       "      <td>3.34</td>\n",
       "      <td>http://www.sec.gov/cgi-bin/browse-edgar?action...</td>\n",
       "    </tr>\n",
       "  </tbody>\n",
       "</table>\n",
       "</div>"
      ],
      "text/plain": [
       "    symbol                          name                  sector   price  \\\n",
       "80    AVGO                      Broadcom  Information Technology  229.57   \n",
       "1      AOS               A.O. Smith Corp             Industrials     NaN   \n",
       "333    NKE                          Nike  Consumer Discretionary   62.49   \n",
       "380    PVH                     PVH Corp.  Consumer Discretionary  142.68   \n",
       "386    RJF  Raymond James Financial Inc.              Financials   86.06   \n",
       "235    HST         Host Hotels & Resorts             Real Estate   18.75   \n",
       "306    MGM     MGM Resorts International  Consumer Discretionary    33.5   \n",
       "184    XOM             Exxon Mobil Corp.                  Energy   76.07   \n",
       "33     AXP           American Express Co              Financials   88.34   \n",
       "418    SWK        Stanley Black & Decker  Consumer Discretionary  152.86   \n",
       "\n",
       "     price_per_earnings  dividend_yield earnings_per_share  52_week_low  \\\n",
       "80                15.94        2.948858               4.01      285.680   \n",
       "1                   NaN             NaN                NaN          NaN   \n",
       "333               24.90        1.218955               2.51       68.830   \n",
       "380               20.98        0.100529               6.77      157.960   \n",
       "386               16.94        1.098298               4.12       99.100   \n",
       "235               11.23        4.113111               1.02       21.530   \n",
       "306               29.65        1.268743               1.92       38.410   \n",
       "184               21.37        4.003120               1.88       89.300   \n",
       "33                15.00        1.495567                2.9      102.385   \n",
       "418               20.57        1.577564               8.05      176.620   \n",
       "\n",
       "     52_week_high    market_cap        ebitda  price_per_sales  \\\n",
       "80         202.61  9.279197e+10  7.016000e+09         6.961893   \n",
       "1             NaN           NaN           NaN              NaN   \n",
       "333         50.35  1.067761e+11  5.162000e+09         3.054993   \n",
       "380         84.53  1.147863e+10  1.057500e+09         1.761752   \n",
       "386         71.35  1.321627e+10  0.000000e+00         1.973456   \n",
       "235         17.26  1.439472e+10  1.547000e+09         3.554913   \n",
       "306         25.15  1.963367e+10  2.680385e+09         2.227672   \n",
       "184         76.05  3.261487e+11  3.905200e+10         1.770194   \n",
       "33          75.51  8.041099e+10  0.000000e+00         2.273575   \n",
       "418        121.09  2.449640e+10  2.264600e+09         1.944325   \n",
       "\n",
       "     price_per_book                                        sec_filings  \n",
       "80             4.40  http://www.sec.gov/cgi-bin/browse-edgar?action...  \n",
       "1               NaN                                                NaN  \n",
       "333            8.91  http://www.sec.gov/cgi-bin/browse-edgar?action...  \n",
       "380            2.14  http://www.sec.gov/cgi-bin/browse-edgar?action...  \n",
       "386            2.34  http://www.sec.gov/cgi-bin/browse-edgar?action...  \n",
       "235            2.02  http://www.sec.gov/cgi-bin/browse-edgar?action...  \n",
       "306            3.09  http://www.sec.gov/cgi-bin/browse-edgar?action...  \n",
       "184            1.85  http://www.sec.gov/cgi-bin/browse-edgar?action...  \n",
       "33             3.75  http://www.sec.gov/cgi-bin/browse-edgar?action...  \n",
       "418            3.34  http://www.sec.gov/cgi-bin/browse-edgar?action...  "
      ]
     },
     "execution_count": 5,
     "metadata": {},
     "output_type": "execute_result"
    }
   ],
   "source": [
    "df.sample(10)"
   ]
  },
  {
   "cell_type": "markdown",
   "metadata": {},
   "source": [
    "### Identify the number of records in the DataFrame, and compare it with the number of rows in the original file."
   ]
  },
  {
   "cell_type": "code",
   "execution_count": 6,
   "metadata": {},
   "outputs": [
    {
     "data": {
      "text/plain": [
       "symbol                504\n",
       "name                  502\n",
       "sector                501\n",
       "price                 500\n",
       "price_per_earnings    497\n",
       "dividend_yield        499\n",
       "earnings_per_share    498\n",
       "52_week_low           500\n",
       "52_week_high          500\n",
       "market_cap            500\n",
       "ebitda                492\n",
       "price_per_sales       500\n",
       "price_per_book        492\n",
       "sec_filings           500\n",
       "dtype: int64"
      ]
     },
     "execution_count": 6,
     "metadata": {},
     "output_type": "execute_result"
    }
   ],
   "source": [
    "df.count()"
   ]
  },
  {
   "cell_type": "markdown",
   "metadata": {},
   "source": [
    "### Identify nulls records"
   ]
  },
  {
   "cell_type": "code",
   "execution_count": 12,
   "metadata": {},
   "outputs": [
    {
     "data": {
      "text/plain": [
       "symbol                0.0\n",
       "name                  0.0\n",
       "sector                0.0\n",
       "price                 0.0\n",
       "price_per_earnings    0.0\n",
       "dividend_yield        0.0\n",
       "earnings_per_share    0.0\n",
       "52_week_low           0.0\n",
       "52_week_high          0.0\n",
       "market_cap            0.0\n",
       "ebitda                0.0\n",
       "price_per_sales       0.0\n",
       "price_per_book        0.0\n",
       "sec_filings           0.0\n",
       "dtype: float64"
      ]
     },
     "execution_count": 12,
     "metadata": {},
     "output_type": "execute_result"
    }
   ],
   "source": [
    "df.isnull().mean()*100"
   ]
  },
  {
   "cell_type": "markdown",
   "metadata": {},
   "source": [
    "### Drop Null Records"
   ]
  },
  {
   "cell_type": "code",
   "execution_count": 9,
   "metadata": {},
   "outputs": [],
   "source": [
    "df.dropna(inplace= True)"
   ]
  },
  {
   "cell_type": "markdown",
   "metadata": {},
   "source": [
    "### Validate nulls have been dropped"
   ]
  },
  {
   "cell_type": "code",
   "execution_count": 10,
   "metadata": {},
   "outputs": [
    {
     "data": {
      "text/plain": [
       "symbol                0\n",
       "name                  0\n",
       "sector                0\n",
       "price                 0\n",
       "price_per_earnings    0\n",
       "dividend_yield        0\n",
       "earnings_per_share    0\n",
       "52_week_low           0\n",
       "52_week_high          0\n",
       "market_cap            0\n",
       "ebitda                0\n",
       "price_per_sales       0\n",
       "price_per_book        0\n",
       "sec_filings           0\n",
       "dtype: int64"
      ]
     },
     "execution_count": 10,
     "metadata": {},
     "output_type": "execute_result"
    }
   ],
   "source": [
    "df.isnull().sum()"
   ]
  },
  {
   "cell_type": "markdown",
   "metadata": {},
   "source": [
    "### Default null `ebitda` values to 0. Then, validate no records are null for ebitda."
   ]
  },
  {
   "cell_type": "code",
   "execution_count": 15,
   "metadata": {},
   "outputs": [
    {
     "data": {
      "text/plain": [
       "0"
      ]
     },
     "execution_count": 15,
     "metadata": {},
     "output_type": "execute_result"
    }
   ],
   "source": [
    "df['ebitda']= df['ebitda'].fillna(0)\n",
    "df['ebitda'].isnull().sum()"
   ]
  },
  {
   "cell_type": "markdown",
   "metadata": {},
   "source": [
    "### Drop Duplicates"
   ]
  },
  {
   "cell_type": "code",
   "execution_count": null,
   "metadata": {},
   "outputs": [],
   "source": [
    "df.drop_duplicates(inplace= True)"
   ]
  }
 ],
 "metadata": {
  "kernelspec": {
   "display_name": "Python 3",
   "language": "python",
   "name": "python3"
  },
  "language_info": {
   "codemirror_mode": {
    "name": "ipython",
    "version": 3
   },
   "file_extension": ".py",
   "mimetype": "text/x-python",
   "name": "python",
   "nbconvert_exporter": "python",
   "pygments_lexer": "ipython3",
   "version": "3.8.3"
  }
 },
 "nbformat": 4,
 "nbformat_minor": 4
}
