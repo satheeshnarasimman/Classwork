{
 "cells": [
  {
   "cell_type": "markdown",
   "metadata": {},
   "source": [
    "# Spring Cleaning!"
   ]
  },
  {
   "cell_type": "markdown",
   "metadata": {},
   "source": [
    "Harold's stock data is a mess! Help him clean up his data before the auditors arrive!"
   ]
  },
  {
   "cell_type": "code",
   "execution_count": 1,
   "metadata": {},
   "outputs": [],
   "source": [
    "# Import Libraries\n",
    "import pandas as pd\n",
    "from pathlib import Path"
   ]
  },
  {
   "cell_type": "markdown",
   "metadata": {},
   "source": [
    "### Load CSV data into Pandas using `read_csv`"
   ]
  },
  {
   "cell_type": "code",
   "execution_count": 2,
   "metadata": {},
   "outputs": [],
   "source": [
    "csvpath= Path('../../Resources/stock_data.csv')\n",
    "df= pd.read_csv(csvpath)"
   ]
  },
  {
   "cell_type": "markdown",
   "metadata": {},
   "source": [
    "### Identify the number of rows and columns (shape) in the DataFrame."
   ]
  },
  {
   "cell_type": "code",
   "execution_count": 3,
   "metadata": {},
   "outputs": [
    {
     "data": {
      "text/plain": [
       "(504, 14)"
      ]
     },
     "execution_count": 3,
     "metadata": {},
     "output_type": "execute_result"
    }
   ],
   "source": [
    "df.shape"
   ]
  },
  {
   "cell_type": "markdown",
   "metadata": {},
   "source": [
    "### Generate a sample of the data to visually ensure data has been loaded in correctly."
   ]
  },
  {
   "cell_type": "code",
   "execution_count": 4,
   "metadata": {},
   "outputs": [
    {
     "data": {
      "text/html": [
       "<div>\n",
       "<style scoped>\n",
       "    .dataframe tbody tr th:only-of-type {\n",
       "        vertical-align: middle;\n",
       "    }\n",
       "\n",
       "    .dataframe tbody tr th {\n",
       "        vertical-align: top;\n",
       "    }\n",
       "\n",
       "    .dataframe thead th {\n",
       "        text-align: right;\n",
       "    }\n",
       "</style>\n",
       "<table border=\"1\" class=\"dataframe\">\n",
       "  <thead>\n",
       "    <tr style=\"text-align: right;\">\n",
       "      <th></th>\n",
       "      <th>symbol</th>\n",
       "      <th>name</th>\n",
       "      <th>sector</th>\n",
       "      <th>price</th>\n",
       "      <th>price_per_earnings</th>\n",
       "      <th>dividend_yield</th>\n",
       "      <th>earnings_per_share</th>\n",
       "      <th>52_week_low</th>\n",
       "      <th>52_week_high</th>\n",
       "      <th>market_cap</th>\n",
       "      <th>ebitda</th>\n",
       "      <th>price_per_sales</th>\n",
       "      <th>price_per_book</th>\n",
       "      <th>sec_filings</th>\n",
       "    </tr>\n",
       "  </thead>\n",
       "  <tbody>\n",
       "    <tr>\n",
       "      <th>301</th>\n",
       "      <td>MCK</td>\n",
       "      <td>McKesson Corp.</td>\n",
       "      <td>Health Care</td>\n",
       "      <td>150.23</td>\n",
       "      <td>11.68</td>\n",
       "      <td>0.889878</td>\n",
       "      <td>22.74</td>\n",
       "      <td>178.860</td>\n",
       "      <td>133.82</td>\n",
       "      <td>3.153484e+10</td>\n",
       "      <td>7.232000e+09</td>\n",
       "      <td>0.153186</td>\n",
       "      <td>2.68</td>\n",
       "      <td>http://www.sec.gov/cgi-bin/browse-edgar?action...</td>\n",
       "    </tr>\n",
       "    <tr>\n",
       "      <th>61</th>\n",
       "      <td>AVB</td>\n",
       "      <td>AvalonBay Communities, Inc.</td>\n",
       "      <td>Real Estate</td>\n",
       "      <td>154.94</td>\n",
       "      <td>17.97</td>\n",
       "      <td>3.714936</td>\n",
       "      <td>6.36</td>\n",
       "      <td>199.520</td>\n",
       "      <td>156.01</td>\n",
       "      <td>2.185655e+10</td>\n",
       "      <td>1.331579e+09</td>\n",
       "      <td>10.251216</td>\n",
       "      <td>2.12</td>\n",
       "      <td>http://www.sec.gov/cgi-bin/browse-edgar?action...</td>\n",
       "    </tr>\n",
       "    <tr>\n",
       "      <th>399</th>\n",
       "      <td>ROST</td>\n",
       "      <td>Ross Stores</td>\n",
       "      <td>Consumer Discretionary</td>\n",
       "      <td>75.06</td>\n",
       "      <td>26.52</td>\n",
       "      <td>0.820618</td>\n",
       "      <td>2.83</td>\n",
       "      <td>85.660</td>\n",
       "      <td>52.85</td>\n",
       "      <td>2.980357e+10</td>\n",
       "      <td>2.247009e+09</td>\n",
       "      <td>2.973450</td>\n",
       "      <td>10.28</td>\n",
       "      <td>http://www.sec.gov/cgi-bin/browse-edgar?action...</td>\n",
       "    </tr>\n",
       "    <tr>\n",
       "      <th>473</th>\n",
       "      <td>VZ</td>\n",
       "      <td>Verizon Communications</td>\n",
       "      <td>Telecommunication Services</td>\n",
       "      <td>49.04</td>\n",
       "      <td>13.08</td>\n",
       "      <td>4.626544</td>\n",
       "      <td>7.36</td>\n",
       "      <td>54.770</td>\n",
       "      <td>42.80</td>\n",
       "      <td>2.080923e+11</td>\n",
       "      <td>4.574500e+10</td>\n",
       "      <td>1.645254</td>\n",
       "      <td>7.96</td>\n",
       "      <td>http://www.sec.gov/cgi-bin/browse-edgar?action...</td>\n",
       "    </tr>\n",
       "    <tr>\n",
       "      <th>234</th>\n",
       "      <td>HRL</td>\n",
       "      <td>Hormel Foods Corp.</td>\n",
       "      <td>Consumer Staples</td>\n",
       "      <td>32.21</td>\n",
       "      <td>20.39</td>\n",
       "      <td>2.290776</td>\n",
       "      <td>1.57</td>\n",
       "      <td>38.000</td>\n",
       "      <td>29.75</td>\n",
       "      <td>1.733861e+10</td>\n",
       "      <td>1.422305e+09</td>\n",
       "      <td>2.517479</td>\n",
       "      <td>3.49</td>\n",
       "      <td>http://www.sec.gov/cgi-bin/browse-edgar?action...</td>\n",
       "    </tr>\n",
       "    <tr>\n",
       "      <th>92</th>\n",
       "      <td>CBOE</td>\n",
       "      <td>CBOE Holdings</td>\n",
       "      <td>Financials</td>\n",
       "      <td>111.15</td>\n",
       "      <td>35.06</td>\n",
       "      <td>0.942696</td>\n",
       "      <td>2.27</td>\n",
       "      <td>138.540</td>\n",
       "      <td>76.75</td>\n",
       "      <td>1.299830e+10</td>\n",
       "      <td>4.884060e+08</td>\n",
       "      <td>8.249042</td>\n",
       "      <td>5.15</td>\n",
       "      <td>http://www.sec.gov/cgi-bin/browse-edgar?action...</td>\n",
       "    </tr>\n",
       "    <tr>\n",
       "      <th>296</th>\n",
       "      <td>MAS</td>\n",
       "      <td>Masco Corp.</td>\n",
       "      <td>Industrials</td>\n",
       "      <td>40.7</td>\n",
       "      <td>22.12</td>\n",
       "      <td>0.983837</td>\n",
       "      <td>1.47</td>\n",
       "      <td>46.445</td>\n",
       "      <td>31.29</td>\n",
       "      <td>1.342879e+10</td>\n",
       "      <td>1.179000e+09</td>\n",
       "      <td>2.308266</td>\n",
       "      <td>11.93</td>\n",
       "      <td>http://www.sec.gov/cgi-bin/browse-edgar?action...</td>\n",
       "    </tr>\n",
       "    <tr>\n",
       "      <th>280</th>\n",
       "      <td>LUK</td>\n",
       "      <td>Leucadia National Corp.</td>\n",
       "      <td>Financials</td>\n",
       "      <td>23.86</td>\n",
       "      <td>15.39</td>\n",
       "      <td>1.599360</td>\n",
       "      <td>0.33</td>\n",
       "      <td>28.300</td>\n",
       "      <td>22.23</td>\n",
       "      <td>8.910389e+09</td>\n",
       "      <td>2.201336e+09</td>\n",
       "      <td>1.041016</td>\n",
       "      <td>0.84</td>\n",
       "      <td>http://www.sec.gov/cgi-bin/browse-edgar?action...</td>\n",
       "    </tr>\n",
       "    <tr>\n",
       "      <th>479</th>\n",
       "      <td>WMT</td>\n",
       "      <td>Wal-Mart Stores</td>\n",
       "      <td>Consumer Staples</td>\n",
       "      <td>100.02</td>\n",
       "      <td>23.10</td>\n",
       "      <td>1.983471</td>\n",
       "      <td>4.39</td>\n",
       "      <td>109.980</td>\n",
       "      <td>66.89</td>\n",
       "      <td>3.046809e+11</td>\n",
       "      <td>3.072100e+10</td>\n",
       "      <td>0.820994</td>\n",
       "      <td>3.89</td>\n",
       "      <td>http://www.sec.gov/cgi-bin/browse-edgar?action...</td>\n",
       "    </tr>\n",
       "    <tr>\n",
       "      <th>235</th>\n",
       "      <td>HST</td>\n",
       "      <td>Host Hotels &amp; Resorts</td>\n",
       "      <td>Real Estate</td>\n",
       "      <td>18.75</td>\n",
       "      <td>11.23</td>\n",
       "      <td>4.113111</td>\n",
       "      <td>1.02</td>\n",
       "      <td>21.530</td>\n",
       "      <td>17.26</td>\n",
       "      <td>1.439472e+10</td>\n",
       "      <td>1.547000e+09</td>\n",
       "      <td>3.554913</td>\n",
       "      <td>2.02</td>\n",
       "      <td>http://www.sec.gov/cgi-bin/browse-edgar?action...</td>\n",
       "    </tr>\n",
       "  </tbody>\n",
       "</table>\n",
       "</div>"
      ],
      "text/plain": [
       "    symbol                         name                      sector   price  \\\n",
       "301    MCK               McKesson Corp.                 Health Care  150.23   \n",
       "61     AVB  AvalonBay Communities, Inc.                 Real Estate  154.94   \n",
       "399   ROST                  Ross Stores      Consumer Discretionary   75.06   \n",
       "473     VZ       Verizon Communications  Telecommunication Services   49.04   \n",
       "234    HRL           Hormel Foods Corp.            Consumer Staples   32.21   \n",
       "92    CBOE                CBOE Holdings                  Financials  111.15   \n",
       "296    MAS                  Masco Corp.                 Industrials    40.7   \n",
       "280    LUK      Leucadia National Corp.                  Financials   23.86   \n",
       "479    WMT              Wal-Mart Stores            Consumer Staples  100.02   \n",
       "235    HST        Host Hotels & Resorts                 Real Estate   18.75   \n",
       "\n",
       "     price_per_earnings  dividend_yield earnings_per_share  52_week_low  \\\n",
       "301               11.68        0.889878              22.74      178.860   \n",
       "61                17.97        3.714936               6.36      199.520   \n",
       "399               26.52        0.820618               2.83       85.660   \n",
       "473               13.08        4.626544               7.36       54.770   \n",
       "234               20.39        2.290776               1.57       38.000   \n",
       "92                35.06        0.942696               2.27      138.540   \n",
       "296               22.12        0.983837               1.47       46.445   \n",
       "280               15.39        1.599360               0.33       28.300   \n",
       "479               23.10        1.983471               4.39      109.980   \n",
       "235               11.23        4.113111               1.02       21.530   \n",
       "\n",
       "     52_week_high    market_cap        ebitda  price_per_sales  \\\n",
       "301        133.82  3.153484e+10  7.232000e+09         0.153186   \n",
       "61         156.01  2.185655e+10  1.331579e+09        10.251216   \n",
       "399         52.85  2.980357e+10  2.247009e+09         2.973450   \n",
       "473         42.80  2.080923e+11  4.574500e+10         1.645254   \n",
       "234         29.75  1.733861e+10  1.422305e+09         2.517479   \n",
       "92          76.75  1.299830e+10  4.884060e+08         8.249042   \n",
       "296         31.29  1.342879e+10  1.179000e+09         2.308266   \n",
       "280         22.23  8.910389e+09  2.201336e+09         1.041016   \n",
       "479         66.89  3.046809e+11  3.072100e+10         0.820994   \n",
       "235         17.26  1.439472e+10  1.547000e+09         3.554913   \n",
       "\n",
       "     price_per_book                                        sec_filings  \n",
       "301            2.68  http://www.sec.gov/cgi-bin/browse-edgar?action...  \n",
       "61             2.12  http://www.sec.gov/cgi-bin/browse-edgar?action...  \n",
       "399           10.28  http://www.sec.gov/cgi-bin/browse-edgar?action...  \n",
       "473            7.96  http://www.sec.gov/cgi-bin/browse-edgar?action...  \n",
       "234            3.49  http://www.sec.gov/cgi-bin/browse-edgar?action...  \n",
       "92             5.15  http://www.sec.gov/cgi-bin/browse-edgar?action...  \n",
       "296           11.93  http://www.sec.gov/cgi-bin/browse-edgar?action...  \n",
       "280            0.84  http://www.sec.gov/cgi-bin/browse-edgar?action...  \n",
       "479            3.89  http://www.sec.gov/cgi-bin/browse-edgar?action...  \n",
       "235            2.02  http://www.sec.gov/cgi-bin/browse-edgar?action...  "
      ]
     },
     "execution_count": 4,
     "metadata": {},
     "output_type": "execute_result"
    }
   ],
   "source": [
    "df.sample(10)"
   ]
  },
  {
   "cell_type": "markdown",
   "metadata": {},
   "source": [
    "### Identify the number of records in the DataFrame, and compare it with the number of rows in the original file."
   ]
  },
  {
   "cell_type": "code",
   "execution_count": 5,
   "metadata": {},
   "outputs": [
    {
     "data": {
      "text/plain": [
       "symbol                504\n",
       "name                  502\n",
       "sector                501\n",
       "price                 500\n",
       "price_per_earnings    497\n",
       "dividend_yield        499\n",
       "earnings_per_share    498\n",
       "52_week_low           500\n",
       "52_week_high          500\n",
       "market_cap            500\n",
       "ebitda                492\n",
       "price_per_sales       500\n",
       "price_per_book        492\n",
       "sec_filings           500\n",
       "dtype: int64"
      ]
     },
     "execution_count": 5,
     "metadata": {},
     "output_type": "execute_result"
    }
   ],
   "source": [
    "df.count()"
   ]
  },
  {
   "cell_type": "markdown",
   "metadata": {},
   "source": [
    "### Identify nulls records"
   ]
  },
  {
   "cell_type": "code",
   "execution_count": 6,
   "metadata": {},
   "outputs": [
    {
     "data": {
      "text/plain": [
       "symbol                0.000000\n",
       "name                  0.396825\n",
       "sector                0.595238\n",
       "price                 0.793651\n",
       "price_per_earnings    1.388889\n",
       "dividend_yield        0.992063\n",
       "earnings_per_share    1.190476\n",
       "52_week_low           0.793651\n",
       "52_week_high          0.793651\n",
       "market_cap            0.793651\n",
       "ebitda                2.380952\n",
       "price_per_sales       0.793651\n",
       "price_per_book        2.380952\n",
       "sec_filings           0.793651\n",
       "dtype: float64"
      ]
     },
     "execution_count": 6,
     "metadata": {},
     "output_type": "execute_result"
    }
   ],
   "source": [
    "df.isnull().mean()*100"
   ]
  },
  {
   "cell_type": "markdown",
   "metadata": {},
   "source": [
    "### Drop Null Records"
   ]
  },
  {
   "cell_type": "code",
   "execution_count": 7,
   "metadata": {},
   "outputs": [],
   "source": [
    "df.dropna(inplace= True)"
   ]
  },
  {
   "cell_type": "markdown",
   "metadata": {},
   "source": [
    "### Validate nulls have been dropped"
   ]
  },
  {
   "cell_type": "code",
   "execution_count": 8,
   "metadata": {},
   "outputs": [
    {
     "data": {
      "text/plain": [
       "symbol                0\n",
       "name                  0\n",
       "sector                0\n",
       "price                 0\n",
       "price_per_earnings    0\n",
       "dividend_yield        0\n",
       "earnings_per_share    0\n",
       "52_week_low           0\n",
       "52_week_high          0\n",
       "market_cap            0\n",
       "ebitda                0\n",
       "price_per_sales       0\n",
       "price_per_book        0\n",
       "sec_filings           0\n",
       "dtype: int64"
      ]
     },
     "execution_count": 8,
     "metadata": {},
     "output_type": "execute_result"
    }
   ],
   "source": [
    "df.isnull().sum()"
   ]
  },
  {
   "cell_type": "markdown",
   "metadata": {},
   "source": [
    "### Default null `ebitda` values to 0. Then, validate no records are null for ebitda."
   ]
  },
  {
   "cell_type": "code",
   "execution_count": 9,
   "metadata": {},
   "outputs": [
    {
     "data": {
      "text/plain": [
       "0"
      ]
     },
     "execution_count": 9,
     "metadata": {},
     "output_type": "execute_result"
    }
   ],
   "source": [
    "df['ebitda']= df['ebitda'].fillna(0)\n",
    "df['ebitda'].isnull().sum()"
   ]
  },
  {
   "cell_type": "markdown",
   "metadata": {},
   "source": [
    "### Drop Duplicates"
   ]
  },
  {
   "cell_type": "code",
   "execution_count": 10,
   "metadata": {},
   "outputs": [],
   "source": [
    "df.drop_duplicates(inplace= True)"
   ]
  },
  {
   "cell_type": "markdown",
   "metadata": {},
   "source": [
    "### Sample `price` field"
   ]
  },
  {
   "cell_type": "code",
   "execution_count": 18,
   "metadata": {},
   "outputs": [
    {
     "data": {
      "text/plain": [
       "0    $222.89\n",
       "2      56.27\n",
       "3     108.48\n",
       "5     108.48\n",
       "6     185.16\n",
       "Name: price, dtype: object"
      ]
     },
     "execution_count": 18,
     "metadata": {},
     "output_type": "execute_result"
    }
   ],
   "source": [
    "df['price'].head()"
   ]
  },
  {
   "cell_type": "markdown",
   "metadata": {},
   "source": [
    "### Clean `price` Series by replacing `$`"
   ]
  },
  {
   "cell_type": "code",
   "execution_count": 26,
   "metadata": {},
   "outputs": [
    {
     "data": {
      "text/plain": [
       "0    222.89\n",
       "2     56.27\n",
       "3    108.48\n",
       "5    108.48\n",
       "6    185.16\n",
       "Name: price, dtype: object"
      ]
     },
     "execution_count": 26,
     "metadata": {},
     "output_type": "execute_result"
    }
   ],
   "source": [
    "df['price'] = df['price'].str.replace('$', '')\n",
    "df['price'].head()"
   ]
  },
  {
   "cell_type": "markdown",
   "metadata": {},
   "source": [
    "### Confirm data type of `price`"
   ]
  },
  {
   "cell_type": "code",
   "execution_count": 19,
   "metadata": {},
   "outputs": [
    {
     "data": {
      "text/plain": [
       "dtype('O')"
      ]
     },
     "execution_count": 19,
     "metadata": {},
     "output_type": "execute_result"
    }
   ],
   "source": [
    "df['price'].dtype"
   ]
  },
  {
   "cell_type": "markdown",
   "metadata": {},
   "source": [
    "### Cast `price` Series as float and then validate using `dtype`"
   ]
  },
  {
   "cell_type": "code",
   "execution_count": 27,
   "metadata": {},
   "outputs": [
    {
     "data": {
      "text/plain": [
       "dtype('float64')"
      ]
     },
     "execution_count": 27,
     "metadata": {},
     "output_type": "execute_result"
    }
   ],
   "source": [
    "df['price']= df['price'].astype('float')\n",
    "df['price'].dtype"
   ]
  },
  {
   "cell_type": "code",
   "execution_count": null,
   "metadata": {},
   "outputs": [],
   "source": []
  }
 ],
 "metadata": {
  "kernelspec": {
   "display_name": "Python 3",
   "language": "python",
   "name": "python3"
  },
  "language_info": {
   "codemirror_mode": {
    "name": "ipython",
    "version": 3
   },
   "file_extension": ".py",
   "mimetype": "text/x-python",
   "name": "python",
   "nbconvert_exporter": "python",
   "pygments_lexer": "ipython3",
   "version": "3.8.3"
  }
 },
 "nbformat": 4,
 "nbformat_minor": 4
}
