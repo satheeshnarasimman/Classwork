{
 "cells": [
  {
   "cell_type": "code",
   "execution_count": 2,
   "metadata": {},
   "outputs": [],
   "source": [
    "import pandas as pd\n",
    "from pathlib import Path"
   ]
  },
  {
   "cell_type": "code",
   "execution_count": 4,
   "metadata": {},
   "outputs": [
    {
     "data": {
      "text/html": [
       "<div>\n",
       "<style scoped>\n",
       "    .dataframe tbody tr th:only-of-type {\n",
       "        vertical-align: middle;\n",
       "    }\n",
       "\n",
       "    .dataframe tbody tr th {\n",
       "        vertical-align: top;\n",
       "    }\n",
       "\n",
       "    .dataframe thead th {\n",
       "        text-align: right;\n",
       "    }\n",
       "</style>\n",
       "<table border=\"1\" class=\"dataframe\">\n",
       "  <thead>\n",
       "    <tr style=\"text-align: right;\">\n",
       "      <th></th>\n",
       "      <th>customer_no</th>\n",
       "      <th>order_total</th>\n",
       "      <th>order_date</th>\n",
       "    </tr>\n",
       "    <tr>\n",
       "      <th>order_no</th>\n",
       "      <th></th>\n",
       "      <th></th>\n",
       "      <th></th>\n",
       "    </tr>\n",
       "  </thead>\n",
       "  <tbody>\n",
       "    <tr>\n",
       "      <th>45251825</th>\n",
       "      <td>CJ458565</td>\n",
       "      <td>14.00</td>\n",
       "      <td>04/25/2019</td>\n",
       "    </tr>\n",
       "    <tr>\n",
       "      <th>452517125</th>\n",
       "      <td>CM458565</td>\n",
       "      <td>$141.25</td>\n",
       "      <td>01-10-2019</td>\n",
       "    </tr>\n",
       "    <tr>\n",
       "      <th>413853121</th>\n",
       "      <td>CM458565</td>\n",
       "      <td>NaN</td>\n",
       "      <td>4/24/2019</td>\n",
       "    </tr>\n",
       "    <tr>\n",
       "      <th>452519232</th>\n",
       "      <td>NaN</td>\n",
       "      <td>$141.25</td>\n",
       "      <td>01-10-2019</td>\n",
       "    </tr>\n",
       "    <tr>\n",
       "      <th>45235825</th>\n",
       "      <td>TV4663</td>\n",
       "      <td>65.42</td>\n",
       "      <td>04-29-2019</td>\n",
       "    </tr>\n",
       "  </tbody>\n",
       "</table>\n",
       "</div>"
      ],
      "text/plain": [
       "          customer_no order_total  order_date\n",
       "order_no                                     \n",
       "45251825     CJ458565       14.00  04/25/2019\n",
       "452517125    CM458565     $141.25  01-10-2019\n",
       "413853121    CM458565         NaN   4/24/2019\n",
       "452519232         NaN     $141.25  01-10-2019\n",
       "45235825       TV4663       65.42  04-29-2019"
      ]
     },
     "execution_count": 4,
     "metadata": {},
     "output_type": "execute_result"
    }
   ],
   "source": [
    "csvpath= Path('../Resources/order_data.csv')\n",
    "df= pd.read_csv(csvpath, index_col= \"order_no\")\n",
    "df.sample(5)"
   ]
  },
  {
   "cell_type": "code",
   "execution_count": 5,
   "metadata": {},
   "outputs": [
    {
     "data": {
      "text/plain": [
       "customer_no    object\n",
       "order_total    object\n",
       "order_date     object\n",
       "dtype: object"
      ]
     },
     "execution_count": 5,
     "metadata": {},
     "output_type": "execute_result"
    }
   ],
   "source": [
    "df.dtypes"
   ]
  },
  {
   "cell_type": "code",
   "execution_count": 7,
   "metadata": {},
   "outputs": [
    {
     "data": {
      "text/plain": [
       "customer_no    7\n",
       "order_total    7\n",
       "order_date     8\n",
       "dtype: int64"
      ]
     },
     "execution_count": 7,
     "metadata": {},
     "output_type": "execute_result"
    }
   ],
   "source": [
    "df.count()"
   ]
  },
  {
   "cell_type": "code",
   "execution_count": 8,
   "metadata": {},
   "outputs": [
    {
     "data": {
      "text/plain": [
       "CM458565    2\n",
       "AK45765     2\n",
       "TV4663      1\n",
       "CJ458565    1\n",
       "2124        1\n",
       "Name: customer_no, dtype: int64"
      ]
     },
     "execution_count": 8,
     "metadata": {},
     "output_type": "execute_result"
    }
   ],
   "source": [
    "df[\"customer_no\"].value_counts()"
   ]
  },
  {
   "cell_type": "code",
   "execution_count": 9,
   "metadata": {},
   "outputs": [
    {
     "data": {
      "text/html": [
       "<div>\n",
       "<style scoped>\n",
       "    .dataframe tbody tr th:only-of-type {\n",
       "        vertical-align: middle;\n",
       "    }\n",
       "\n",
       "    .dataframe tbody tr th {\n",
       "        vertical-align: top;\n",
       "    }\n",
       "\n",
       "    .dataframe thead th {\n",
       "        text-align: right;\n",
       "    }\n",
       "</style>\n",
       "<table border=\"1\" class=\"dataframe\">\n",
       "  <thead>\n",
       "    <tr style=\"text-align: right;\">\n",
       "      <th></th>\n",
       "      <th>customer_no</th>\n",
       "      <th>order_total</th>\n",
       "      <th>order_date</th>\n",
       "    </tr>\n",
       "    <tr>\n",
       "      <th>order_no</th>\n",
       "      <th></th>\n",
       "      <th></th>\n",
       "      <th></th>\n",
       "    </tr>\n",
       "  </thead>\n",
       "  <tbody>\n",
       "    <tr>\n",
       "      <th>452517125</th>\n",
       "      <td>False</td>\n",
       "      <td>False</td>\n",
       "      <td>False</td>\n",
       "    </tr>\n",
       "    <tr>\n",
       "      <th>45251825</th>\n",
       "      <td>False</td>\n",
       "      <td>False</td>\n",
       "      <td>False</td>\n",
       "    </tr>\n",
       "    <tr>\n",
       "      <th>4465241327</th>\n",
       "      <td>False</td>\n",
       "      <td>False</td>\n",
       "      <td>False</td>\n",
       "    </tr>\n",
       "    <tr>\n",
       "      <th>4465241327</th>\n",
       "      <td>False</td>\n",
       "      <td>False</td>\n",
       "      <td>False</td>\n",
       "    </tr>\n",
       "    <tr>\n",
       "      <th>413853121</th>\n",
       "      <td>False</td>\n",
       "      <td>True</td>\n",
       "      <td>False</td>\n",
       "    </tr>\n",
       "    <tr>\n",
       "      <th>45235825</th>\n",
       "      <td>False</td>\n",
       "      <td>False</td>\n",
       "      <td>False</td>\n",
       "    </tr>\n",
       "    <tr>\n",
       "      <th>2356363</th>\n",
       "      <td>False</td>\n",
       "      <td>False</td>\n",
       "      <td>False</td>\n",
       "    </tr>\n",
       "    <tr>\n",
       "      <th>452519232</th>\n",
       "      <td>True</td>\n",
       "      <td>False</td>\n",
       "      <td>False</td>\n",
       "    </tr>\n",
       "  </tbody>\n",
       "</table>\n",
       "</div>"
      ],
      "text/plain": [
       "            customer_no  order_total  order_date\n",
       "order_no                                        \n",
       "452517125         False        False       False\n",
       "45251825          False        False       False\n",
       "4465241327        False        False       False\n",
       "4465241327        False        False       False\n",
       "413853121         False         True       False\n",
       "45235825          False        False       False\n",
       "2356363           False        False       False\n",
       "452519232          True        False       False"
      ]
     },
     "execution_count": 9,
     "metadata": {},
     "output_type": "execute_result"
    }
   ],
   "source": [
    "df.isnull()"
   ]
  },
  {
   "cell_type": "code",
   "execution_count": 10,
   "metadata": {},
   "outputs": [
    {
     "data": {
      "text/plain": [
       "customer_no    12.5\n",
       "order_total    12.5\n",
       "order_date      0.0\n",
       "dtype: float64"
      ]
     },
     "execution_count": 10,
     "metadata": {},
     "output_type": "execute_result"
    }
   ],
   "source": [
    "df.isnull().mean()*100"
   ]
  },
  {
   "cell_type": "code",
   "execution_count": 11,
   "metadata": {},
   "outputs": [
    {
     "data": {
      "text/plain": [
       "customer_no    1\n",
       "order_total    1\n",
       "order_date     0\n",
       "dtype: int64"
      ]
     },
     "execution_count": 11,
     "metadata": {},
     "output_type": "execute_result"
    }
   ],
   "source": [
    "df.isnull().sum()"
   ]
  },
  {
   "cell_type": "code",
   "execution_count": 20,
   "metadata": {},
   "outputs": [
    {
     "data": {
      "text/html": [
       "<div>\n",
       "<style scoped>\n",
       "    .dataframe tbody tr th:only-of-type {\n",
       "        vertical-align: middle;\n",
       "    }\n",
       "\n",
       "    .dataframe tbody tr th {\n",
       "        vertical-align: top;\n",
       "    }\n",
       "\n",
       "    .dataframe thead th {\n",
       "        text-align: right;\n",
       "    }\n",
       "</style>\n",
       "<table border=\"1\" class=\"dataframe\">\n",
       "  <thead>\n",
       "    <tr style=\"text-align: right;\">\n",
       "      <th></th>\n",
       "      <th>customer_no</th>\n",
       "      <th>order_total</th>\n",
       "      <th>order_date</th>\n",
       "    </tr>\n",
       "    <tr>\n",
       "      <th>order_no</th>\n",
       "      <th></th>\n",
       "      <th></th>\n",
       "      <th></th>\n",
       "    </tr>\n",
       "  </thead>\n",
       "  <tbody>\n",
       "    <tr>\n",
       "      <th>452517125</th>\n",
       "      <td>CM458565</td>\n",
       "      <td>$141.25</td>\n",
       "      <td>01-10-2019</td>\n",
       "    </tr>\n",
       "    <tr>\n",
       "      <th>45251825</th>\n",
       "      <td>CJ458565</td>\n",
       "      <td>14.00</td>\n",
       "      <td>04/25/2019</td>\n",
       "    </tr>\n",
       "    <tr>\n",
       "      <th>4465241327</th>\n",
       "      <td>AK45765</td>\n",
       "      <td>$1103.36</td>\n",
       "      <td>04-25-2019</td>\n",
       "    </tr>\n",
       "    <tr>\n",
       "      <th>4465241327</th>\n",
       "      <td>AK45765</td>\n",
       "      <td>$1103.36</td>\n",
       "      <td>04-25-2019</td>\n",
       "    </tr>\n",
       "    <tr>\n",
       "      <th>45235825</th>\n",
       "      <td>TV4663</td>\n",
       "      <td>65.42</td>\n",
       "      <td>04-29-2019</td>\n",
       "    </tr>\n",
       "    <tr>\n",
       "      <th>2356363</th>\n",
       "      <td>2124</td>\n",
       "      <td>258936.12</td>\n",
       "      <td>04-29-2019</td>\n",
       "    </tr>\n",
       "    <tr>\n",
       "      <th>452519232</th>\n",
       "      <td>0</td>\n",
       "      <td>$141.25</td>\n",
       "      <td>01-10-2019</td>\n",
       "    </tr>\n",
       "  </tbody>\n",
       "</table>\n",
       "</div>"
      ],
      "text/plain": [
       "           customer_no order_total  order_date\n",
       "order_no                                      \n",
       "452517125     CM458565     $141.25  01-10-2019\n",
       "45251825      CJ458565       14.00  04/25/2019\n",
       "4465241327     AK45765    $1103.36  04-25-2019\n",
       "4465241327     AK45765    $1103.36  04-25-2019\n",
       "45235825        TV4663       65.42  04-29-2019\n",
       "2356363           2124   258936.12  04-29-2019\n",
       "452519232            0     $141.25  01-10-2019"
      ]
     },
     "execution_count": 20,
     "metadata": {},
     "output_type": "execute_result"
    }
   ],
   "source": [
    "df= df.fillna(0)\n",
    "df"
   ]
  },
  {
   "cell_type": "code",
   "execution_count": 15,
   "metadata": {},
   "outputs": [
    {
     "data": {
      "text/html": [
       "<div>\n",
       "<style scoped>\n",
       "    .dataframe tbody tr th:only-of-type {\n",
       "        vertical-align: middle;\n",
       "    }\n",
       "\n",
       "    .dataframe tbody tr th {\n",
       "        vertical-align: top;\n",
       "    }\n",
       "\n",
       "    .dataframe thead th {\n",
       "        text-align: right;\n",
       "    }\n",
       "</style>\n",
       "<table border=\"1\" class=\"dataframe\">\n",
       "  <thead>\n",
       "    <tr style=\"text-align: right;\">\n",
       "      <th></th>\n",
       "      <th>customer_no</th>\n",
       "      <th>order_total</th>\n",
       "      <th>order_date</th>\n",
       "    </tr>\n",
       "    <tr>\n",
       "      <th>order_no</th>\n",
       "      <th></th>\n",
       "      <th></th>\n",
       "      <th></th>\n",
       "    </tr>\n",
       "  </thead>\n",
       "  <tbody>\n",
       "    <tr>\n",
       "      <th>452517125</th>\n",
       "      <td>CM458565</td>\n",
       "      <td>$141.25</td>\n",
       "      <td>01-10-2019</td>\n",
       "    </tr>\n",
       "    <tr>\n",
       "      <th>45251825</th>\n",
       "      <td>CJ458565</td>\n",
       "      <td>14.00</td>\n",
       "      <td>04/25/2019</td>\n",
       "    </tr>\n",
       "    <tr>\n",
       "      <th>4465241327</th>\n",
       "      <td>AK45765</td>\n",
       "      <td>$1103.36</td>\n",
       "      <td>04-25-2019</td>\n",
       "    </tr>\n",
       "    <tr>\n",
       "      <th>4465241327</th>\n",
       "      <td>AK45765</td>\n",
       "      <td>$1103.36</td>\n",
       "      <td>04-25-2019</td>\n",
       "    </tr>\n",
       "    <tr>\n",
       "      <th>45235825</th>\n",
       "      <td>TV4663</td>\n",
       "      <td>65.42</td>\n",
       "      <td>04-29-2019</td>\n",
       "    </tr>\n",
       "    <tr>\n",
       "      <th>2356363</th>\n",
       "      <td>2124</td>\n",
       "      <td>258936.12</td>\n",
       "      <td>04-29-2019</td>\n",
       "    </tr>\n",
       "    <tr>\n",
       "      <th>452519232</th>\n",
       "      <td>0</td>\n",
       "      <td>$141.25</td>\n",
       "      <td>01-10-2019</td>\n",
       "    </tr>\n",
       "  </tbody>\n",
       "</table>\n",
       "</div>"
      ],
      "text/plain": [
       "           customer_no order_total  order_date\n",
       "order_no                                      \n",
       "452517125     CM458565     $141.25  01-10-2019\n",
       "45251825      CJ458565       14.00  04/25/2019\n",
       "4465241327     AK45765    $1103.36  04-25-2019\n",
       "4465241327     AK45765    $1103.36  04-25-2019\n",
       "45235825        TV4663       65.42  04-29-2019\n",
       "2356363           2124   258936.12  04-29-2019\n",
       "452519232            0     $141.25  01-10-2019"
      ]
     },
     "execution_count": 15,
     "metadata": {},
     "output_type": "execute_result"
    }
   ],
   "source": [
    "df= df.dropna().copy()\n",
    "df"
   ]
  },
  {
   "cell_type": "code",
   "execution_count": 16,
   "metadata": {},
   "outputs": [
    {
     "data": {
      "text/plain": [
       "customer_no    0\n",
       "order_total    0\n",
       "order_date     0\n",
       "dtype: int64"
      ]
     },
     "execution_count": 16,
     "metadata": {},
     "output_type": "execute_result"
    }
   ],
   "source": [
    "df.isnull().sum()"
   ]
  },
  {
   "cell_type": "code",
   "execution_count": 19,
   "metadata": {},
   "outputs": [
    {
     "data": {
      "text/plain": [
       "order_no\n",
       "452517125     False\n",
       "45251825      False\n",
       "4465241327    False\n",
       "4465241327     True\n",
       "45235825      False\n",
       "2356363       False\n",
       "452519232     False\n",
       "dtype: bool"
      ]
     },
     "execution_count": 19,
     "metadata": {},
     "output_type": "execute_result"
    }
   ],
   "source": [
    "df.duplicated()"
   ]
  },
  {
   "cell_type": "code",
   "execution_count": 21,
   "metadata": {},
   "outputs": [
    {
     "data": {
      "text/plain": [
       "order_no\n",
       "452517125     False\n",
       "45251825      False\n",
       "4465241327    False\n",
       "4465241327     True\n",
       "45235825      False\n",
       "2356363       False\n",
       "452519232     False\n",
       "Name: customer_no, dtype: bool"
      ]
     },
     "execution_count": 21,
     "metadata": {},
     "output_type": "execute_result"
    }
   ],
   "source": [
    "df[\"customer_no\"].duplicated()"
   ]
  },
  {
   "cell_type": "code",
   "execution_count": 23,
   "metadata": {},
   "outputs": [
    {
     "data": {
      "text/plain": [
       "order_no\n",
       "452517125     False\n",
       "45251825      False\n",
       "4465241327    False\n",
       "45235825      False\n",
       "2356363       False\n",
       "452519232     False\n",
       "Name: customer_no, dtype: bool"
      ]
     },
     "execution_count": 23,
     "metadata": {},
     "output_type": "execute_result"
    }
   ],
   "source": [
    "df= df.drop_duplicates().copy()\n",
    "df[\"customer_no\"].duplicated()"
   ]
  },
  {
   "cell_type": "code",
   "execution_count": 24,
   "metadata": {},
   "outputs": [
    {
     "data": {
      "text/html": [
       "<div>\n",
       "<style scoped>\n",
       "    .dataframe tbody tr th:only-of-type {\n",
       "        vertical-align: middle;\n",
       "    }\n",
       "\n",
       "    .dataframe tbody tr th {\n",
       "        vertical-align: top;\n",
       "    }\n",
       "\n",
       "    .dataframe thead th {\n",
       "        text-align: right;\n",
       "    }\n",
       "</style>\n",
       "<table border=\"1\" class=\"dataframe\">\n",
       "  <thead>\n",
       "    <tr style=\"text-align: right;\">\n",
       "      <th></th>\n",
       "      <th>customer_no</th>\n",
       "      <th>order_total</th>\n",
       "      <th>order_date</th>\n",
       "    </tr>\n",
       "    <tr>\n",
       "      <th>order_no</th>\n",
       "      <th></th>\n",
       "      <th></th>\n",
       "      <th></th>\n",
       "    </tr>\n",
       "  </thead>\n",
       "  <tbody>\n",
       "    <tr>\n",
       "      <th>452517125</th>\n",
       "      <td>CM458565</td>\n",
       "      <td>$141.25</td>\n",
       "      <td>01-10-2019</td>\n",
       "    </tr>\n",
       "    <tr>\n",
       "      <th>45251825</th>\n",
       "      <td>CJ458565</td>\n",
       "      <td>14.00</td>\n",
       "      <td>04/25/2019</td>\n",
       "    </tr>\n",
       "    <tr>\n",
       "      <th>4465241327</th>\n",
       "      <td>AK45765</td>\n",
       "      <td>$1103.36</td>\n",
       "      <td>04-25-2019</td>\n",
       "    </tr>\n",
       "    <tr>\n",
       "      <th>45235825</th>\n",
       "      <td>TV4663</td>\n",
       "      <td>65.42</td>\n",
       "      <td>04-29-2019</td>\n",
       "    </tr>\n",
       "    <tr>\n",
       "      <th>2356363</th>\n",
       "      <td>2124</td>\n",
       "      <td>258936.12</td>\n",
       "      <td>04-29-2019</td>\n",
       "    </tr>\n",
       "  </tbody>\n",
       "</table>\n",
       "</div>"
      ],
      "text/plain": [
       "           customer_no order_total  order_date\n",
       "order_no                                      \n",
       "452517125     CM458565     $141.25  01-10-2019\n",
       "45251825      CJ458565       14.00  04/25/2019\n",
       "4465241327     AK45765    $1103.36  04-25-2019\n",
       "45235825        TV4663       65.42  04-29-2019\n",
       "2356363           2124   258936.12  04-29-2019"
      ]
     },
     "execution_count": 24,
     "metadata": {},
     "output_type": "execute_result"
    }
   ],
   "source": [
    "df.head()"
   ]
  },
  {
   "cell_type": "code",
   "execution_count": 25,
   "metadata": {},
   "outputs": [
    {
     "data": {
      "text/plain": [
       "order_no\n",
       "452517125        141.25\n",
       "45251825          14.00\n",
       "4465241327      1103.36\n",
       "45235825          65.42\n",
       "2356363       258936.12\n",
       "452519232        141.25\n",
       "Name: order_total, dtype: object"
      ]
     },
     "execution_count": 25,
     "metadata": {},
     "output_type": "execute_result"
    }
   ],
   "source": [
    "df[\"order_total\"]= df[\"order_total\"].str.replace(\"$\",\"\")\n",
    "df[\"order_total\"]"
   ]
  },
  {
   "cell_type": "code",
   "execution_count": 26,
   "metadata": {},
   "outputs": [],
   "source": [
    "df[\"order_total\"]= df[\"order_total\"].astype('float')"
   ]
  },
  {
   "cell_type": "code",
   "execution_count": 27,
   "metadata": {},
   "outputs": [
    {
     "data": {
      "text/plain": [
       "customer_no     object\n",
       "order_total    float64\n",
       "order_date      object\n",
       "dtype: object"
      ]
     },
     "execution_count": 27,
     "metadata": {},
     "output_type": "execute_result"
    }
   ],
   "source": [
    "df.dtypes"
   ]
  },
  {
   "cell_type": "code",
   "execution_count": null,
   "metadata": {},
   "outputs": [],
   "source": []
  }
 ],
 "metadata": {
  "kernelspec": {
   "display_name": "Python 3",
   "language": "python",
   "name": "python3"
  },
  "language_info": {
   "codemirror_mode": {
    "name": "ipython",
    "version": 3
   },
   "file_extension": ".py",
   "mimetype": "text/x-python",
   "name": "python",
   "nbconvert_exporter": "python",
   "pygments_lexer": "ipython3",
   "version": "3.8.3"
  }
 },
 "nbformat": 4,
 "nbformat_minor": 4
}
