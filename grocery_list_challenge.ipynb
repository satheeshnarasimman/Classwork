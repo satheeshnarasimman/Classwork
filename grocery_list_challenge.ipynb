{
 "cells": [
  {
   "cell_type": "code",
   "execution_count": null,
   "metadata": {},
   "outputs": [],
   "source": []
  },
  {
   "cell_type": "code",
   "execution_count": 19,
   "metadata": {},
   "outputs": [
    {
     "name": "stdout",
     "output_type": "stream",
     "text": [
      "['Water', 'Butter']\n",
      "['Eggs', 'Apples', 'Cinnamon', 'Sugar', 'Milk']\n",
      "['Butter', 'Apples', 'Sugar']\n",
      "['Water', 'Butter', 'Eggs', 'Apples', 'Cinnamon', 'Sugar', 'Milk', 'flour']\n",
      "['Water', 'Butter', 'Eggs', 'gala_apple', 'Cinnamon', 'Sugar', 'Milk', 'flour']\n",
      "8\n",
      "3\n",
      "['Water', 'Butter', 'Eggs', 'gala_apple', 'Cinnamon', 'Milk', 'flour']\n",
      "['Butter', 'Eggs', 'gala_apple', 'Cinnamon', 'Milk', 'flour']\n",
      "['Butter', 'Eggs', 'gala_apple', 'Cinnamon', 'Milk']\n",
      "You continue on your journey purchasing groceries...\n"
     ]
    }
   ],
   "source": [
    "# -*- coding: utf-8 -*-\n",
    "\"\"\"\n",
    "Student Do: Grocery List.\n",
    "\n",
    "This script showcases basic operations of Python Lists to help Sally\n",
    "organize her grocery shopping list.\n",
    "\"\"\"\n",
    "\n",
    "# @TODO: Create a list of groceries\n",
    "# Create a grocery list for the apple pie ingredients\n",
    "groceries= [\"Water\",\"Butter\",\"Eggs\",\"Apples\",\"Cinnamon\",\"Sugar\",\"Milk\"]\n",
    "\n",
    "# @TODO: Find the first two items on the list\n",
    "# Find the first two items on Mike's grocery list.\n",
    "\n",
    "print (groceries[:2])\n",
    "\n",
    "# @TODO: Find the last five items on the list\n",
    "# Find the last five items on Mike's grocery list.\n",
    "print (groceries[2:])\n",
    "\n",
    "# @TODO: Find every other item on the list, starting from the second item\n",
    "# Find _every other_ item, starting from the second item, on Mike's grocery list.\n",
    "print (groceries[1::2])\n",
    "\n",
    "# @TODO: Add an element to the end of the list\n",
    "# Add `flour` to the grocery list.\n",
    "groceries.append('flour')\n",
    "print (groceries)\n",
    "\n",
    "# @TODO: Changes a specified element within the list at the given index\n",
    "# Change `apples` to `gala apples`. (Mike decides to be more specific with the types of apples needed.)\n",
    "groceries[3]= \"gala_apple\"\n",
    "print (groceries)\n",
    "\n",
    "# @TODO: Calculate how many items you have in the \n",
    "# Determine the total number of items on the grocery list.\n",
    "print (len(groceries))\n",
    "\n",
    "# ----------------------Go to the grocery store---------------------------\")\n",
    "\n",
    "# @TODO: Find the index of the particular element name\n",
    "# Mike wants to find where `gala apples` is on his list. Find the index of `gala apples`.\n",
    "print (groceries.index(\"gala_apple\"))\n",
    "\n",
    "# @TODO: Remove an element from the list based on the given element name\n",
    "# Mike remembers that he already has sugar. Remove `sugar` from the grocery list.\n",
    "groceries.remove(\"Sugar\")\n",
    "print (groceries)\n",
    "\n",
    "# @TODO: Remove an element from the list based on the given index\n",
    "# Mike decides that he has water at home. Remove `water` from the grocery list based on its index.\n",
    "groceries.pop(0)\n",
    "print (groceries)\n",
    "\n",
    "# @TODO: Remove the last element of the list\n",
    "# Mike decides to pick up the last item on his list, so remove the last item from the grocery list.\n",
    "groceries.pop(-1)\n",
    "print (groceries)\n",
    "\n",
    "print(\"You continue on your journey purchasing groceries...\")"
   ]
  },
  {
   "cell_type": "code",
   "execution_count": null,
   "metadata": {},
   "outputs": [],
   "source": []
  }
 ],
 "metadata": {
  "kernelspec": {
   "display_name": "Python 3",
   "language": "python",
   "name": "python3"
  },
  "language_info": {
   "codemirror_mode": {
    "name": "ipython",
    "version": 3
   },
   "file_extension": ".py",
   "mimetype": "text/x-python",
   "name": "python",
   "nbconvert_exporter": "python",
   "pygments_lexer": "ipython3",
   "version": "3.8.3"
  }
 },
 "nbformat": 4,
 "nbformat_minor": 4
}
